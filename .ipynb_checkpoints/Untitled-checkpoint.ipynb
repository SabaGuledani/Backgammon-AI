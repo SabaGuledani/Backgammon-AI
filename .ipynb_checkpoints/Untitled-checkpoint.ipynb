{
 "cells": [
  {
   "cell_type": "code",
   "execution_count": 1,
   "id": "e5aeb973-1009-495c-b8d1-b97c4bb54fda",
   "metadata": {},
   "outputs": [
    {
     "name": "stdout",
     "output_type": "stream",
     "text": [
      "Num GPUs Available:  1\n"
     ]
    }
   ],
   "source": [
    "import backgammon\n",
    "import random\n",
    "import numpy as np\n",
    "import matplotlib.pyplot as plt\n",
    "from IPython.display import clear_output\n",
    "import tensorflow as tf\n",
    "from tensorflow.keras import Sequential\n",
    "from tensorflow.keras.optimizers import Adam\n",
    "from tensorflow.keras.layers import Dense, Dropout, LeakyReLU, BatchNormalization\n",
    "\n",
    "# if GPU is available this code will state 1\n",
    "print(\"Num GPUs Available: \", len(tf.config.list_physical_devices('GPU')))\n",
    "\n",
    "class BGBoard:\n",
    "    def __init__(self):\n",
    "        self.board = backgammon.Backgammon()\n",
    "        self.board.start()\n",
    "        self.first_turn = self.board.match.player\n",
    "        self.winner = -1\n",
    "        self.state_players = []\n",
    "        \n",
    "    def get_moves_and_positions(self,swap=False):\n",
    "        possible_moves_positions = {}\n",
    "        possible_moves = []\n",
    "        for play in self.board.generate_plays():\n",
    "            pair = []\n",
    "            for move in play.moves:\n",
    "                pair.append((move.source,move.destination))\n",
    "            pair = tuple(pair)\n",
    "            turn = self.board.match.turn.value\n",
    "            if turn == 0:\n",
    "                current_player = 1\n",
    "            else:\n",
    "                current_player = 0\n",
    "            if swap == False:\n",
    "                position = play.position\n",
    "            else:\n",
    "                position = swap_position(play.position)\n",
    "            possible_moves_positions[pair] = self.state(position,current_player)\n",
    "            possible_moves.append(pair)\n",
    "        return possible_moves_positions,possible_moves\n",
    "\n",
    "    # def get_possible_moves(self, possible_moves_positions:dict):\n",
    "    #     possible_moves = possible_moves_positions.keys()\n",
    "    #     return list(possible_moves)\n",
    "    \n",
    "    def state(self,position,current_player):\n",
    "        # position = self.board.position\n",
    "        board_points = list(position.board_points)\n",
    "        p_bar = [position.player_bar]\n",
    "        p_off = [position.player_off]\n",
    "        op_bar = [position.opponent_bar]\n",
    "        op_off = [position.opponent_off]\n",
    "        die_1 = [self.board.match.dice[0]]\n",
    "        die_2 = [self.board.match.dice[1]]\n",
    "        current_player = [current_player]\n",
    "        \n",
    "        state_list = board_points+p_bar+p_off+op_bar+op_off+die_1+die_2+current_player\n",
    "        state_array = np.array(state_list)/15\n",
    "        \n",
    "        return state_array\n",
    "\n",
    "    def make_move(self, move):\n",
    "        '''\n",
    "        move is tuple of tuples. e.g ((22,19),(23,21),...)\n",
    "        '''\n",
    "        if self.board.match.player.value == self.first_turn:\n",
    "            self.state_players.append(0)\n",
    "        else:\n",
    "            self.state_players.append(1)\n",
    "        \n",
    "        if move == None:\n",
    "            self.board.skip()\n",
    "        else:\n",
    "            self.board.play(move)\n",
    "        \n",
    "        \n",
    "        if self.is_over():\n",
    "            return self.winner\n",
    "            \n",
    "        if self.board.match.dice == (0, 0):\n",
    "            self.board.roll()\n",
    "        \n",
    "    def is_over(self):\n",
    "        p0_score = self.board.match.player_0_score\n",
    "        p1_score = self.board.match.player_1_score\n",
    "        \n",
    "        if p0_score > p1_score:\n",
    "            self.winner = 0\n",
    "            return True\n",
    "        elif p0_score < p1_score:\n",
    "            self.winner = 1\n",
    "            return True\n",
    "        else:\n",
    "            return False\n",
    "\n",
    "    # def get_reward(self):\n",
    "    #     player = self.board.match.player\n",
    "    #     if winner != -1:\n",
    "    #         if winner == player:\n",
    "    #             return torch.tensor(1,device=device, dtype=torch.float32)\n",
    "    #         elif winner != player:\n",
    "    #             return torch.tensor(-1,device=device, dtype=torch.float32)\n",
    "        "
   ]
  },
  {
   "cell_type": "code",
   "execution_count": 2,
   "id": "143cf0c3-00a4-4c39-88d4-23dd866c5dd3",
   "metadata": {},
   "outputs": [],
   "source": [
    "model = Sequential([\n",
    "    Dense(64, activation=tf.keras.layers.LeakyReLU(alpha=0.3), input_shape=(31,)), # 31 features for board state\n",
    "    BatchNormalization(),\n",
    "    Dropout(0.5),\n",
    "    # Dense(512, activation=tf.keras.layers.LeakyReLU(alpha=0.3)),\n",
    "    # BatchNormalization(),\n",
    "    # Dropout(0.5),\n",
    "    Dense(32, activation=tf.keras.layers.LeakyReLU(alpha=0.3)),\n",
    "    BatchNormalization(),\n",
    "    Dropout(0.5),\n",
    "    Dense(1, activation=\"tanh\")  # Output: Estimated value of the state\n",
    "])\n",
    "learning_rate = 0.001\n",
    "optimizer = Adam(learning_rate=learning_rate)\n",
    "\n",
    "# Compile the model\n",
    "model.compile(optimizer=optimizer,\n",
    "              loss='mean_squared_error')\n",
    "\n",
    "\n",
    "\n",
    "        \n",
    "    \n",
    "losses = []\n",
    "\n",
    "def td_lambda_update(states, rewards, model, eligibility_traces, alpha=learning_rate, gamma=0.99, lambda_=0.8):\n",
    "    \"\"\"\n",
    "    Perform TD(λ) updates with eligibility traces.\n",
    "\n",
    "    Args:\n",
    "        states: List of game states (numpy arrays).\n",
    "        rewards: List of rewards for each state.\n",
    "        model: The neural network model.\n",
    "        eligibility_traces: Persistent eligibility traces for the model's parameters.\n",
    "        alpha: Learning rate.\n",
    "        gamma: Discount factor.\n",
    "        lambda_: Eligibility trace decay factor.\n",
    "        \n",
    "    Returns:\n",
    "        Average TD error loss for the episode.\n",
    "    \"\"\"\n",
    "    total_loss = 0\n",
    "\n",
    "    for t in range(len(states) - 1):\n",
    "        with tf.GradientTape() as tape:\n",
    "            # Predict current and next state values\n",
    "            V_t = model(tf.convert_to_tensor([states[t]], dtype=tf.float32))  # Shape: (1, 1)\n",
    "            V_t_plus_1 = model(tf.convert_to_tensor([states[t + 1]], dtype=tf.float32))  # Shape: (1, 1)\n",
    "\n",
    "            # Compute TD error (delta_t)\n",
    "            delta_t = rewards[t] + gamma * tf.squeeze(V_t_plus_1) - tf.squeeze(V_t)\n",
    "\n",
    "        # Calculate gradients for the current state's value prediction\n",
    "        gradients = tape.gradient(V_t, model.trainable_variables)\n",
    "\n",
    "        # Update eligibility traces and model weights\n",
    "        for i, gradient in enumerate(gradients):\n",
    "            if gradient is not None:\n",
    "                eligibility_traces[i] = gamma * lambda_ * eligibility_traces[i] + gradient\n",
    "                model.trainable_variables[i].assign_add(alpha * delta_t * eligibility_traces[i])\n",
    "\n",
    "        total_loss += delta_t ** 2\n",
    "\n",
    "    return total_loss / (len(states) - 1)\n"
   ]
  },
  {
   "cell_type": "code",
   "execution_count": 3,
   "id": "0fe88625-48ed-46d7-a960-f234f082d2e6",
   "metadata": {},
   "outputs": [],
   "source": [
    "from backgammon.position import Position\n",
    "\n",
    "def swap_position(position) -> \"Position\":\n",
    "        return Position(\n",
    "            tuple(map(lambda n: -n, position.board_points[::-1])),\n",
    "            position.opponent_bar,\n",
    "            position.opponent_off,\n",
    "            position.player_bar,\n",
    "            position.player_off,\n",
    "        )"
   ]
  },
  {
   "cell_type": "code",
   "execution_count": 4,
   "id": "47844381-2258-4c00-ac8c-7c7ceb73bfc4",
   "metadata": {},
   "outputs": [],
   "source": [
    "def play_game(model,random_threshold=0.75):\n",
    "    states = []\n",
    "    b = BGBoard()\n",
    "    first_player_turn = b.board.match.turn.value\n",
    "    \n",
    "    while not b.is_over():\n",
    "        turn = b.board.match.turn.value\n",
    "        position = b.board.position\n",
    "\n",
    "        # Append the current state (for the current player)\n",
    "        if turn == first_player_turn:\n",
    "            states.append(b.state(position,turn))\n",
    "            swap = False\n",
    "        else:\n",
    "            current_state_swapped = b.state(swap_position(position),turn)\n",
    "            states.append(current_state_swapped)\n",
    "            swap = True\n",
    "        \n",
    "        moves_positions,possible_moves = b.get_moves_and_positions(swap=swap)\n",
    "\n",
    "        move_values = []\n",
    "        \n",
    "        if moves_positions != {}:\n",
    "            if random.uniform(0,1)<random_threshold:\n",
    "                best_move = random.choice(possible_moves)\n",
    "                \n",
    "            else:\n",
    "                # Create a batch of next states for all possible moves\n",
    "                moves_positions_list = [moves_positions[move] for move in possible_moves]\n",
    "                \n",
    "                next_states = np.array(moves_positions_list)\n",
    "                \n",
    "                # Predict values for all possible moves in a single batch\n",
    "                move_values = model.predict(next_states).flatten()  # Flatten to 1D array\n",
    "                \n",
    "                best_move = possible_moves[np.argmax(move_values)]\n",
    "                \n",
    "        else:\n",
    "            best_move = None\n",
    "\n",
    "        b.make_move(best_move)\n",
    "\n",
    "    \n",
    "    states = np.array(states)\n",
    "    \n",
    "    rewards = [0 for state_player in b.state_players]\n",
    "    \n",
    "    if states[-1][-1] * 15 == first_player_turn:\n",
    "        rewards[-1] = 1\n",
    "        \n",
    "    else:\n",
    "        rewards[-1] = -1\n",
    "       \n",
    "    return states, rewards"
   ]
  },
  {
   "cell_type": "code",
   "execution_count": 7,
   "id": "9f379dec-28ee-4688-9218-b6edc56159f1",
   "metadata": {},
   "outputs": [
    {
     "data": {
      "image/png": "[encoded data removed]",
      "text/plain": [
       "<Figure size 640x480 with 1 Axes>"
      ]
     },
     "metadata": {},
     "output_type": "display_data"
    },
    {
     "name": "stderr",
     "output_type": "stream",
     "text": [
      "\n",
      "KeyboardInterrupt\n",
      "\n"
     ]
    }
   ],
   "source": [
    "last_epoch = 250\n",
    "epochs = 40000\n",
    "random_threshold = 0.5\n",
    "learning_rate = 0.03\n",
    "for epoch in range(last_epoch, epochs):  # Number of training games\n",
    "    # print(f'progress: {epoch}/{epochs}, threshold: {random_threshold} ',end='\\r')\n",
    "    # Generate a game through self-play\n",
    "    states,rewards = play_game(model,random_threshold)\n",
    "    # for state in states:\n",
    "    #     print(state*15)\n",
    "    # break\n",
    "    if random_threshold < 0.85:\n",
    "        random_threshold += 0.00002\n",
    "    eligibility_traces = [tf.zeros_like(var) for var in model.trainable_variables]\n",
    "\n",
    "    # Perform TD(λ) updates\n",
    "    loss = td_lambda_update(states, rewards, model,eligibility_traces, alpha=learning_rate)\n",
    "    losses.append(loss)\n",
    "    # Evaluate the model every 100 games\n",
    "    if epoch % 100 == 0:\n",
    "        model.save(f\"backgammon_RLmodel_new_02_64_64_{epoch}.h5\")\n",
    "        \n",
    "    if epoch % 500 == 0:\n",
    "        learning_rate *= 0.7\n",
    "    \n",
    "    if len(losses) % 10 == 0:\n",
    "        clear_output(wait=True)  # Clear the output of the cell\n",
    "        \n",
    "        # Plot the losses\n",
    "        plt.plot(losses, label='TD Error (Loss)')\n",
    "        \n",
    "        # Calculate the mean of the last 20 losses (if there are at least 20 values)\n",
    "        if len(losses) >= 100:\n",
    "            rolling_mean = np.convolve(losses, np.ones(100)/100, mode='valid')\n",
    "            plt.plot(range(99, len(losses)), rolling_mean, label='Mean of last 100', color='orange', linestyle='--')\n",
    "    \n",
    "    \n",
    "        plt.xlabel('Games')\n",
    "        plt.ylabel('TD Error (Loss)')\n",
    "        plt.legend()\n",
    "        plt.show()  # Display the updated plot\n",
    "    "
   ]
  },
  {
   "cell_type": "code",
   "execution_count": 6,
   "id": "4a988bf0-c3db-4e54-a519-d6cc12a049f9",
   "metadata": {},
   "outputs": [],
   "source": [
    "def evaluate_play_game(model_1,model_2):\n",
    "    b = BGBoard()\n",
    "    first_player_turn = b.board.match.turn.value\n",
    "    players_dict = {0:model_1, 1:model_2}\n",
    "    while not b.is_over():\n",
    "        turn = b.board.match.turn.value\n",
    "        position = b.board.position\n",
    "        if turn == first_player_turn:\n",
    "            swap = False\n",
    "        else:\n",
    "            swap = True\n",
    "\n",
    "        moves_positions,possible_moves = b.get_moves_and_positions(swap=swap)\n",
    "        \n",
    "        move_values = []\n",
    "        \n",
    "        if moves_positions != {}:\n",
    "\n",
    "            # Create a batch of next states for all possible moves\n",
    "            moves_positions_list = [moves_positions[move] for move in possible_moves]\n",
    "            \n",
    "            next_states = np.array(moves_positions_list)\n",
    "            move_values = players_dict[turn].predict(next_states).flatten()\n",
    "            # if turn == 0:\n",
    "            #     # print(turn, \"dumb\")\n",
    "            #     move_values = model_1.predict(next_states).flatten()  # Flatten to 1D array\n",
    "            # else:\n",
    "            #     # print(turn, \"smart\")\n",
    "            #     move_values = model_2.predict(next_states).flatten()  # Flatten to 1D array\n",
    "            # Predict values for all possible moves in a single batch\n",
    "            \n",
    "            \n",
    "            best_move = possible_moves[np.argmax(move_values)]\n",
    "        else:\n",
    "            best_move = None\n",
    "        b.make_move(best_move)\n",
    "        \n",
    "    p0_score = b.board.match.player_0_score\n",
    "    p1_score = b.board.match.player_1_score\n",
    "        # print(f'{p0_score}/{p1_score} game: {game}', end='\\r')\n",
    "            # print(b.board)\n",
    "            \n",
    "    \n",
    "    # print(f\"dumb's score : {p0_score},smart's score: {p1_score}\")\n",
    "    \n",
    "    return p0_score,p1_score\n",
    "\n",
    "\n"
   ]
  },
  {
   "cell_type": "code",
   "execution_count": 53,
   "id": "ac067396-fd31-4d7f-b97e-1c9477a65bae",
   "metadata": {},
   "outputs": [
    {
     "name": "stderr",
     "output_type": "stream",
     "text": [
      "Exception ignored in: <function ScopedTFGraph.__del__ at 0x000002027DB77790>\n",
      "Traceback (most recent call last):\n",
      "  File \"C:\\Users\\Saba\\.conda\\envs\\AI\\lib\\site-packages\\tensorflow\\python\\framework\\c_api_util.py\", line 54, in __del__\n",
      "AttributeError: deleter\n"
     ]
    },
    {
     "name": "stdout",
     "output_type": "stream",
     "text": [
      "112/86\r"
     ]
    },
    {
     "name": "stderr",
     "output_type": "stream",
     "text": [
      "\n",
      "KeyboardInterrupt\n",
      "\n"
     ]
    }
   ],
   "source": [
    "model_dumb = tf.keras.models.load_model('./backgammon_RLmodel_new_02_64_64_100.h5')\n",
    "model_smart = tf.keras.models.load_model('./backgammon_RLmodel_new_02_64_64_200.h5')\n",
    "p0_scores = []\n",
    "p1_scores = []\n",
    "def calculate_wins(p):\n",
    "    all_wins = []\n",
    "    for score in p:\n",
    "        if score > 0:\n",
    "            all_wins.append(score)\n",
    "    return len(all_wins)\n",
    "for i in range(400):\n",
    "    p0,p1 = evaluate_play_game(model_dumb,model_smart)\n",
    "    # print(f'{p0}/{p1}')\n",
    "    p0_scores.append(p0)\n",
    "    p1_scores.append(p1)\n",
    "    print(f\"{calculate_wins(p0_scores)}/{calculate_wins(p1_scores)}\", end='\\r')\n",
    "    \n",
    "    \n"
   ]
  },
  {
   "cell_type": "code",
   "execution_count": 31,
   "id": "b72fa75c-3e07-49d9-b070-19acbf85214a",
   "metadata": {},
   "outputs": [
    {
     "name": "stdout",
     "output_type": "stream",
     "text": [
      "102 140\n"
     ]
    }
   ],
   "source": [
    "print(sum(p0_scores),sum(p1_scores))\n",
    "all_wins_0 = []\n",
    "all_wins_1 =  []\n",
    "def calculate_wins(p):\n",
    "    all_wins = []\n",
    "    for score in p:\n",
    "        if score > 0:\n",
    "            all_wins.append(score)\n",
    "    return len(all_wins)"
   ]
  },
  {
   "cell_type": "code",
   "execution_count": 68,
   "id": "1f6180d6-d73e-4339-b868-b3269c2a79c2",
   "metadata": {},
   "outputs": [],
   "source": [
    "model_dumb = None\n",
    "model_smart = None \n",
    "del model_dumb,model_smart"
   ]
  },
  {
   "cell_type": "code",
   "execution_count": 33,
   "id": "1ca9d6db-2e1a-4970-b4b9-942cdd43f61e",
   "metadata": {},
   "outputs": [
    {
     "name": "stdout",
     "output_type": "stream",
     "text": [
      "49\n",
      "64\n"
     ]
    }
   ],
   "source": [
    "print(calculate_wins(p0_scores))\n",
    "print(calculate_wins(p1_scores))\n"
   ]
  },
  {
   "cell_type": "code",
   "execution_count": 21,
   "id": "6a702261-fea7-4e6a-aff7-7a1f32d64242",
   "metadata": {},
   "outputs": [],
   "source": [
    "b = BGBoard()\n",
    "# b.start()\n"
   ]
  },
  {
   "cell_type": "code",
   "execution_count": 31,
   "id": "14f00c79-3f46-4725-8063-170d70977679",
   "metadata": {},
   "outputs": [
    {
     "name": "stdout",
     "output_type": "stream",
     "text": [
      "                 Position ID: 4HPwATDgc/ABMA\n",
      "                 Match ID   : cIlsAAAAAAAA\n",
      " +13-14-15-16-17-18------19-20-21-22-23-24-+\n",
      " | X           O    |   | O              X |\n",
      " | X           O    |   | O              X |\n",
      " | X           O    |   | O                |\n",
      " | X                |   | O                |\n",
      " | X                |   | O                |\n",
      "v|                  |BAR|                  |\n",
      " | O                |   | X                |\n",
      " | O                |   | X                |\n",
      " | O           X    |   | X                |\n",
      " | O           X    |   | X              O |\n",
      " | O           X    |   | X              O |\n",
      " +12-11-10--9--8--7-------6--5--4--3--2--1-+\n",
      "\n"
     ]
    }
   ],
   "source": [
    "print(b.board)"
   ]
  },
  {
   "cell_type": "code",
   "execution_count": 26,
   "id": "71b0c363-6829-4e94-b286-0f0932ab1929",
   "metadata": {},
   "outputs": [
    {
     "name": "stdout",
     "output_type": "stream",
     "text": [
      "Player.ZERO\n"
     ]
    }
   ],
   "source": [
    "print(b.board.match.turn)"
   ]
  },
  {
   "cell_type": "code",
   "execution_count": 28,
   "id": "381908bd-06f8-4bd1-bf8d-4dd3c50d1526",
   "metadata": {},
   "outputs": [
    {
     "data": {
      "text/plain": [
       "(1, 3)"
      ]
     },
     "execution_count": 28,
     "metadata": {},
     "output_type": "execute_result"
    }
   ],
   "source": [
    "b.board.first_roll()"
   ]
  },
  {
   "cell_type": "code",
   "execution_count": null,
   "id": "ebac2140-8b27-4f60-aa9f-ba9029cb00e8",
   "metadata": {},
   "outputs": [],
   "source": []
  },
  {
   "cell_type": "code",
   "execution_count": 30,
   "id": "0305d3c8-4669-414a-913a-1e03473edc4e",
   "metadata": {},
   "outputs": [
    {
     "data": {
      "text/plain": [
       "1"
      ]
     },
     "execution_count": 30,
     "metadata": {},
     "output_type": "execute_result"
    }
   ],
   "source": [
    "b.board.match.turn.value"
   ]
  },
  {
   "cell_type": "code",
   "execution_count": 28,
   "id": "6e9ff28c-f4e5-4829-9be0-d536d4d091e0",
   "metadata": {},
   "outputs": [
    {
     "name": "stdout",
     "output_type": "stream",
     "text": [
      "Position(board_points=(-2, 0, 0, 0, 0, 5, 0, 3, 0, 0, 0, -5, 5, 0, 0, 0, -3, 0, -5, 0, 0, 0, 0, 2), player_bar=0, player_off=0, opponent_bar=0, opponent_off=0)\n"
     ]
    }
   ],
   "source": [
    "p = b.board.position\n",
    "print(p)"
   ]
  },
  {
   "cell_type": "code",
   "execution_count": 29,
   "id": "ba1017db-5e28-4414-a646-25ef3081157c",
   "metadata": {},
   "outputs": [
    {
     "data": {
      "text/plain": [
       "Position(board_points=(-2, 0, 0, 0, 0, 5, 0, 3, 0, 0, 0, -5, 5, 0, 0, 0, -3, 0, -5, 0, 0, 0, 0, 2), player_bar=0, player_off=0, opponent_bar=0, opponent_off=0)"
      ]
     },
     "execution_count": 29,
     "metadata": {},
     "output_type": "execute_result"
    }
   ],
   "source": [
    "swap_players(p)"
   ]
  },
  {
   "cell_type": "code",
   "execution_count": null,
   "id": "d01f5e66-6988-403e-96d0-1e51cf1b9d86",
   "metadata": {},
   "outputs": [],
   "source": []
  },
  {
   "cell_type": "code",
   "execution_count": 6,
   "id": "3d2fcef9-7f76-46ce-9084-135c4c04c2ea",
   "metadata": {},
   "outputs": [],
   "source": [
    "moves_positions,possible_moves = b.get_moves_and_positions()"
   ]
  },
  {
   "cell_type": "code",
   "execution_count": 12,
   "id": "21b6e3c9-c2ce-4bbb-be64-3b714af9b541",
   "metadata": {},
   "outputs": [
    {
     "name": "stdout",
     "output_type": "stream",
     "text": [
      "Play(moves=(Move(pips=5, source=7, destination=2), Move(pips=1, source=5, destination=4)), position=Position(board_points=(-2, 0, 1, 0, 1, 4, 0, 2, 0, 0, 0, -5, 5, 0, 0, 0, -3, 0, -5, 0, 0, 0, 0, 2), player_bar=0, player_off=0, opponent_bar=0, opponent_off=0))\n"
     ]
    }
   ],
   "source": [
    "for play in b.board.generate_plays():\n",
    "    print(play)\n",
    "    break"
   ]
  },
  {
   "cell_type": "code",
   "execution_count": 13,
   "id": "018555f6-4bde-4436-89f2-fa44fb5caafc",
   "metadata": {},
   "outputs": [
    {
     "data": {
      "text/plain": [
       "Position(board_points=(-2, 0, 0, 0, 0, 5, 0, 3, 0, 0, 0, -5, 5, 0, 0, 0, -3, 0, -5, 0, 0, 0, 0, 2), player_bar=0, player_off=0, opponent_bar=0, opponent_off=0)"
      ]
     },
     "execution_count": 13,
     "metadata": {},
     "output_type": "execute_result"
    }
   ],
   "source": [
    "b.board.position"
   ]
  },
  {
   "cell_type": "code",
   "execution_count": null,
   "id": "f8186c49-9617-4a41-bc6a-9702321462c0",
   "metadata": {},
   "outputs": [],
   "source": []
  },
  {
   "cell_type": "code",
   "execution_count": 42,
   "id": "d9896f4d-c949-43be-bb5c-ad238c7b0f43",
   "metadata": {},
   "outputs": [],
   "source": [
    "position = b.board.position\n",
    "current_state = b.state(position)\n",
    "# Append the current state (for the current player)\n",
    "states.append(current_state)\n",
    "\n",
    "moves_positions = b.get_moves_and_positions()\n",
    "possible_moves = b.get_possible_moves(moves_positions)\n",
    "first_player = b.board.match.turn.value\n",
    "# if i == 1:\n",
    "    # print(f'{first_player} is player_dumb')\n",
    "move_values = []\n",
    "\n",
    "if moves_positions != {}:\n",
    "\n",
    "    # Create a batch of next states for all possible moves\n",
    "    next_states = np.array([moves_positions[move] for move in possible_moves])\n",
    "    \n",
    "    # Predict values for all possible moves in a single batch\n",
    "    move_values = model_smart.predict(next_states).flatten()  # Flatten to 1D array\n",
    "\n",
    "    best_move = possible_moves[np.argmax(move_values)]\n",
    "else:\n",
    "    best_move = None"
   ]
  },
  {
   "cell_type": "code",
   "execution_count": 213,
   "id": "d6a5ef6e-e83d-427e-a8f3-57a92a2732ab",
   "metadata": {},
   "outputs": [],
   "source": []
  },
  {
   "cell_type": "code",
   "execution_count": 5,
   "id": "42274315-1903-4546-ab78-576751da792e",
   "metadata": {},
   "outputs": [
    {
     "name": "stdout",
     "output_type": "stream",
     "text": [
      "0.8000000000003\n"
     ]
    }
   ],
   "source": [
    "k = 0.5\n",
    "for i in range(15000):\n",
    "    k += 0.00002\n",
    "print(k)"
   ]
  },
  {
   "cell_type": "code",
   "execution_count": 21,
   "id": "8d7bdb04-3ed7-46f8-8ebf-3cf1325a1d3d",
   "metadata": {},
   "outputs": [
    {
     "name": "stdout",
     "output_type": "stream",
     "text": [
      "0.8000000000003\n"
     ]
    }
   ],
   "source": []
  },
  {
   "cell_type": "code",
   "execution_count": 17,
   "id": "94c74384-0c77-41bd-b8c6-5d52b13938c4",
   "metadata": {},
   "outputs": [],
   "source": [
    "learning_rate = 0.03"
   ]
  },
  {
   "cell_type": "code",
   "execution_count": 18,
   "id": "0ab3a099-dda4-4ec1-9d39-0b30ec6298c1",
   "metadata": {},
   "outputs": [
    {
     "name": "stdout",
     "output_type": "stream",
     "text": [
      "0.020999999999999998\n",
      "0.014699999999999998\n",
      "0.010289999999999997\n",
      "0.007202999999999998\n",
      "0.005042099999999998\n",
      "0.0035294699999999985\n",
      "0.002470628999999999\n",
      "0.001729440299999999\n",
      "0.0012106082099999993\n",
      "0.0008474257469999995\n"
     ]
    }
   ],
   "source": [
    "for i in range(10):\n",
    "    learning_rate *= 0.70\n",
    "    print(learning_rate)"
   ]
  },
  {
   "cell_type": "code",
   "execution_count": 39,
   "id": "6e2acdf3-fef8-4719-aa59-78c90f595b96",
   "metadata": {},
   "outputs": [],
   "source": [
    "model1 = tf.keras.models.load_model('./backgammon_RLmodel05_64_64_100.h5')\n",
    "model2 = tf.keras.models.load_model('./backgammon_RLmodel05_64_64_10000.h5')"
   ]
  },
  {
   "cell_type": "code",
   "execution_count": 40,
   "id": "e9154a14-2c63-4504-9005-52c18f0c9034",
   "metadata": {},
   "outputs": [
    {
     "data": {
      "text/plain": [
       "[<tf.Variable 'dense/kernel:0' shape=(31, 64) dtype=float32, numpy=\n",
       " array([[ 0.24865772, -0.10203935, -0.15886983, ..., -0.22225152,\n",
       "          0.02141946, -0.11422437],\n",
       "        [-0.12545873,  0.02884449,  0.22662452, ..., -0.24045987,\n",
       "          0.19724675, -0.20846383],\n",
       "        [-0.05151866, -0.03881101, -0.08221499, ..., -0.14624432,\n",
       "          0.20926365, -0.14613411],\n",
       "        ...,\n",
       "        [-0.16588624, -0.1387194 ,  0.07627302, ..., -0.12613666,\n",
       "         -0.15953946,  0.06095667],\n",
       "        [ 0.14565748,  0.00089765, -0.0970078 , ...,  0.06033377,\n",
       "          0.24657752, -0.05173407],\n",
       "        [ 0.14460222, -0.01814933, -0.04799673, ...,  0.07900107,\n",
       "          0.2433995 , -0.10517941]], dtype=float32)>,\n",
       " <tf.Variable 'dense/bias:0' shape=(64,) dtype=float32, numpy=\n",
       " array([ 0.02782262,  0.01611478,  0.05063552,  0.02329272, -0.00166099,\n",
       "         0.00719492, -0.00584468, -0.01495863, -0.01518282,  0.01080851,\n",
       "         0.0078951 ,  0.03142129, -0.01899794,  0.06092185,  0.0067733 ,\n",
       "         0.00639467,  0.01352819,  0.00842119, -0.00106765,  0.01912618,\n",
       "         0.01413403,  0.00126614,  0.00073494, -0.00329296,  0.02995347,\n",
       "         0.00542271,  0.02887397,  0.03313925, -0.00885522,  0.02977646,\n",
       "        -0.0037667 , -0.00197566,  0.00379694,  0.02160747,  0.03413269,\n",
       "         0.00584488, -0.02692635, -0.00463283,  0.01167873, -0.00046697,\n",
       "         0.04410634, -0.00307091, -0.0206441 , -0.05474936,  0.00133726,\n",
       "         0.00166924, -0.01065946,  0.00061287,  0.06120215,  0.02995598,\n",
       "         0.02039259,  0.01922052, -0.00430081, -0.01386817, -0.02332863,\n",
       "         0.00293987,  0.0020344 ,  0.02142304,  0.02387434,  0.01274343,\n",
       "        -0.10176575,  0.02782431,  0.05313548, -0.00580026], dtype=float32)>,\n",
       " <tf.Variable 'batch_normalization/gamma:0' shape=(64,) dtype=float32, numpy=\n",
       " array([1.0054268 , 0.99981225, 1.01258   , 1.0041109 , 0.9983373 ,\n",
       "        0.9997809 , 0.9986414 , 1.0037104 , 0.99114597, 1.0015261 ,\n",
       "        1.0009565 , 1.024514  , 0.9902304 , 1.0112758 , 0.9963181 ,\n",
       "        1.014639  , 1.0050308 , 1.0018586 , 1.0008056 , 1.0297023 ,\n",
       "        1.0087309 , 0.99806905, 0.9985425 , 1.0060686 , 1.0077487 ,\n",
       "        0.9989775 , 1.0019847 , 1.0027666 , 0.9993481 , 1.0107164 ,\n",
       "        1.000055  , 0.99985003, 0.9994425 , 1.0081273 , 1.0173382 ,\n",
       "        0.9984374 , 0.996488  , 1.0008436 , 1.000663  , 0.99924725,\n",
       "        1.0311136 , 0.9973498 , 0.99587953, 0.9939703 , 1.0007702 ,\n",
       "        1.0013795 , 1.0005828 , 0.9988981 , 1.0294554 , 1.0067192 ,\n",
       "        1.0047972 , 1.0063193 , 1.0043061 , 0.9980042 , 0.9984865 ,\n",
       "        1.0051155 , 1.000983  , 1.0030569 , 1.0195436 , 1.0015131 ,\n",
       "        0.9779093 , 1.0091637 , 1.0093508 , 0.99933916], dtype=float32)>,\n",
       " <tf.Variable 'batch_normalization/beta:0' shape=(64,) dtype=float32, numpy=\n",
       " array([ 0.0341974 ,  0.01549444,  0.02525967,  0.01025173,  0.007057  ,\n",
       "         0.02252072, -0.00596722, -0.01032659, -0.00966369,  0.0022194 ,\n",
       "         0.00412149,  0.00670204,  0.04389374, -0.00502799,  0.04243958,\n",
       "        -0.01036797, -0.00297684, -0.00490468, -0.00873879, -0.01810813,\n",
       "        -0.01515339,  0.01509176,  0.0125204 , -0.03375268,  0.01902193,\n",
       "         0.01787713,  0.02390018, -0.00610616, -0.01465097, -0.02664299,\n",
       "        -0.00640836, -0.00535726,  0.01228929, -0.02114244,  0.00848426,\n",
       "         0.01417174, -0.02774102, -0.01667112,  0.01367953, -0.0015232 ,\n",
       "         0.02533616,  0.02175971, -0.00641239, -0.03980286,  0.00116759,\n",
       "        -0.00570701, -0.01270944,  0.00384282,  0.04059353,  0.0212758 ,\n",
       "         0.01250658,  0.02722547, -0.03866775, -0.02152569, -0.03171813,\n",
       "        -0.02399798,  0.00170437,  0.01671554,  0.01187405,  0.00439309,\n",
       "        -0.03961395, -0.00216611,  0.03812017, -0.00726548], dtype=float32)>,\n",
       " <tf.Variable 'dense_1/kernel:0' shape=(64, 64) dtype=float32, numpy=\n",
       " array([[ 0.2011603 ,  0.06555176, -0.12956397, ...,  0.2015079 ,\n",
       "         -0.14312759, -0.10676004],\n",
       "        [ 0.13941172, -0.16908357,  0.03246628, ...,  0.16662352,\n",
       "          0.21262133, -0.07446389],\n",
       "        [ 0.19381043, -0.18195148,  0.13838062, ..., -0.20530799,\n",
       "         -0.17026818,  0.00296972],\n",
       "        ...,\n",
       "        [ 0.09599448,  0.07498723, -0.19365309, ..., -0.02517943,\n",
       "          0.071551  , -0.19210304],\n",
       "        [ 0.0826416 ,  0.0434395 ,  0.13441437, ..., -0.01593886,\n",
       "          0.03464196,  0.20502755],\n",
       "        [ 0.19358383,  0.1878597 , -0.15801057, ...,  0.17620929,\n",
       "          0.20155007, -0.11708027]], dtype=float32)>,\n",
       " <tf.Variable 'dense_1/bias:0' shape=(64,) dtype=float32, numpy=\n",
       " array([ 0.00449909,  0.03587434, -0.01329104,  0.01780759,  0.0056788 ,\n",
       "         0.03264406,  0.01919248, -0.01700855,  0.00361164,  0.00915695,\n",
       "        -0.01347574,  0.00605231, -0.00077839, -0.02345533,  0.02302005,\n",
       "         0.00736665,  0.00073665,  0.0012589 , -0.03732271, -0.00019921,\n",
       "         0.00087195,  0.02226644,  0.01532957,  0.01503965, -0.00856243,\n",
       "        -0.01334961,  0.0341626 ,  0.02462374,  0.01096445, -0.00126496,\n",
       "         0.01966709,  0.00974367, -0.00263517,  0.0246329 ,  0.03397816,\n",
       "        -0.01581261, -0.00835586,  0.02937092, -0.00598435,  0.02990296,\n",
       "         0.01912002,  0.02554947,  0.00678855,  0.00101094, -0.01501313,\n",
       "        -0.00247288, -0.02745938,  0.00086975,  0.00154074, -0.01235663,\n",
       "         0.02820078, -0.00565981, -0.05064328, -0.01980147, -0.0077342 ,\n",
       "        -0.00720279, -0.04551639,  0.03397564, -0.01751963,  0.03699409,\n",
       "        -0.05237083,  0.00720545, -0.00127392,  0.01233323], dtype=float32)>,\n",
       " <tf.Variable 'batch_normalization_1/gamma:0' shape=(64,) dtype=float32, numpy=\n",
       " array([1.0008024 , 1.007917  , 1.007708  , 1.0046403 , 1.0007751 ,\n",
       "        1.0250046 , 1.0088154 , 1.0001829 , 1.0009662 , 1.0000939 ,\n",
       "        0.99303347, 1.0001487 , 0.9999824 , 0.9984917 , 1.0201114 ,\n",
       "        1.0004765 , 0.99990493, 0.99609876, 0.9974181 , 1.0001014 ,\n",
       "        0.99988216, 1.0103719 , 1.0104191 , 1.0059192 , 0.99686956,\n",
       "        1.0041081 , 1.0262142 , 1.007942  , 1.0035416 , 1.0004379 ,\n",
       "        1.0019855 , 0.9999987 , 1.0016052 , 1.0089507 , 1.008467  ,\n",
       "        1.0006672 , 0.99955785, 1.0336525 , 0.999328  , 1.0102285 ,\n",
       "        1.001404  , 1.0189713 , 1.0045278 , 0.99928033, 0.99750334,\n",
       "        0.99973327, 0.99786854, 0.99968356, 1.0001935 , 0.9992543 ,\n",
       "        1.0044221 , 1.0006224 , 0.9934293 , 0.9967438 , 0.9911111 ,\n",
       "        0.99401855, 0.9922206 , 1.0193788 , 1.000097  , 1.0438218 ,\n",
       "        0.9945732 , 1.0006754 , 1.0007427 , 1.0040338 ], dtype=float32)>,\n",
       " <tf.Variable 'batch_normalization_1/beta:0' shape=(64,) dtype=float32, numpy=\n",
       " array([-0.00035911, -0.02924442, -0.03837113,  0.00628796, -0.02062615,\n",
       "         0.02817485,  0.02009745, -0.03381249,  0.00174606,  0.01100264,\n",
       "         0.02493699,  0.02017412, -0.00128973, -0.0202949 ,  0.02244623,\n",
       "         0.00728608,  0.00208327,  0.03053347, -0.02874186, -0.00072162,\n",
       "         0.00212676,  0.01995938,  0.01836346,  0.01564034,  0.01136535,\n",
       "        -0.02758033,  0.03144228,  0.03032898, -0.03011732, -0.00468539,\n",
       "         0.03783215,  0.01371274, -0.01136768, -0.01933562,  0.03415276,\n",
       "        -0.03680613, -0.01949048,  0.02969415, -0.00710812, -0.03070597,\n",
       "         0.02741585,  0.0272663 , -0.02514764,  0.01311091,  0.02093514,\n",
       "        -0.00337908, -0.03844582,  0.01393762,  0.00030014, -0.01082937,\n",
       "        -0.02342344, -0.01373802, -0.03250348, -0.01497119,  0.03986045,\n",
       "         0.0355658 , -0.03503545,  0.0295683 , -0.0310618 ,  0.02709087,\n",
       "        -0.01941801,  0.0071999 , -0.01066533,  0.03965317], dtype=float32)>,\n",
       " <tf.Variable 'dense_2/kernel:0' shape=(64, 1) dtype=float32, numpy=\n",
       " array([[ 0.04068387],\n",
       "        [-0.2532578 ],\n",
       "        [-0.3177465 ],\n",
       "        [ 0.11016629],\n",
       "        [-0.16305542],\n",
       "        [ 0.3195407 ],\n",
       "        [ 0.20745012],\n",
       "        [-0.25655296],\n",
       "        [ 0.04770198],\n",
       "        [ 0.08590202],\n",
       "        [ 0.1423071 ],\n",
       "        [ 0.15532708],\n",
       "        [ 0.00161943],\n",
       "        [-0.14419493],\n",
       "        [ 0.27153504],\n",
       "        [ 0.06333343],\n",
       "        [-0.00667609],\n",
       "        [ 0.21390273],\n",
       "        [-0.20582756],\n",
       "        [-0.01656501],\n",
       "        [ 0.0034233 ],\n",
       "        [ 0.21538502],\n",
       "        [ 0.20857748],\n",
       "        [ 0.16631979],\n",
       "        [ 0.02916586],\n",
       "        [-0.23021248],\n",
       "        [ 0.34242788],\n",
       "        [ 0.26314285],\n",
       "        [-0.24294989],\n",
       "        [-0.04512677],\n",
       "        [ 0.2970448 ],\n",
       "        [ 0.1037302 ],\n",
       "        [-0.10417019],\n",
       "        [-0.20068361],\n",
       "        [ 0.29106084],\n",
       "        [-0.2858449 ],\n",
       "        [-0.14878005],\n",
       "        [ 0.3585994 ],\n",
       "        [-0.03824698],\n",
       "        [-0.27375004],\n",
       "        [ 0.21855749],\n",
       "        [ 0.29332554],\n",
       "        [-0.21647449],\n",
       "        [ 0.08696225],\n",
       "        [ 0.14178848],\n",
       "        [-0.01042853],\n",
       "        [-0.28207883],\n",
       "        [ 0.10235771],\n",
       "        [ 0.02086123],\n",
       "        [-0.07369035],\n",
       "        [-0.20208533],\n",
       "        [-0.11291718],\n",
       "        [-0.21871656],\n",
       "        [-0.07891134],\n",
       "        [ 0.26619753],\n",
       "        [ 0.24410154],\n",
       "        [-0.23276354],\n",
       "        [ 0.303691  ],\n",
       "        [-0.23707747],\n",
       "        [ 0.37171328],\n",
       "        [-0.10932962],\n",
       "        [ 0.06845783],\n",
       "        [-0.08910971],\n",
       "        [ 0.31579635]], dtype=float32)>,\n",
       " <tf.Variable 'dense_2/bias:0' shape=(1,) dtype=float32, numpy=array([0.1336271], dtype=float32)>]"
      ]
     },
     "execution_count": 40,
     "metadata": {},
     "output_type": "execute_result"
    }
   ],
   "source": [
    "model1.trainable_variables"
   ]
  },
  {
   "cell_type": "code",
   "execution_count": 41,
   "id": "2d7fbbb2-7eca-4279-ab56-c974ef468f93",
   "metadata": {},
   "outputs": [
    {
     "data": {
      "text/plain": [
       "[<tf.Variable 'dense/kernel:0' shape=(31, 64) dtype=float32, numpy=\n",
       " array([[ 0.25598252, -0.10503063, -0.05014001, ..., -0.21671061,\n",
       "          0.05244816, -0.11172025],\n",
       "        [-0.07616533,  0.0381564 ,  0.2235378 , ..., -0.236818  ,\n",
       "          0.21805777, -0.21494205],\n",
       "        [-0.01008032, -0.04090825, -0.04120066, ..., -0.15100454,\n",
       "          0.2351648 , -0.14327295],\n",
       "        ...,\n",
       "        [-0.16425456, -0.12189455,  0.06000654, ..., -0.1337059 ,\n",
       "         -0.16070904,  0.05958709],\n",
       "        [ 0.13544248,  0.00185266, -0.07016875, ...,  0.05273537,\n",
       "          0.25023785, -0.04626461],\n",
       "        [ 0.13141398, -0.03379642, -0.06835079, ...,  0.08885832,\n",
       "          0.20393403, -0.09868057]], dtype=float32)>,\n",
       " <tf.Variable 'dense/bias:0' shape=(64,) dtype=float32, numpy=\n",
       " array([ 1.6066642e-04,  6.9072351e-02,  1.5786183e-01,  2.0008404e-02,\n",
       "        -1.4154663e-02, -9.2420364e-03, -2.3906535e-02, -2.8751912e-02,\n",
       "        -4.7398051e-03,  9.7969763e-02,  2.2650191e-03, -1.1017655e-02,\n",
       "        -5.8322787e-02,  2.4438618e-01,  3.8687933e-02, -2.4005633e-03,\n",
       "         5.7888225e-02,  2.1608490e-02,  5.6098528e-02, -4.2164242e-03,\n",
       "         5.2756641e-02, -1.4089264e-02,  2.6774447e-04,  3.1585205e-02,\n",
       "         6.4135507e-02,  3.3307474e-02,  9.8336423e-03,  7.2695635e-02,\n",
       "        -3.5542801e-02,  1.4394678e-01, -4.5297064e-02, -2.0517245e-02,\n",
       "        -1.6121648e-02,  9.8050954e-03, -1.5972661e-02,  6.5117702e-02,\n",
       "        -3.5894733e-02, -1.0942404e-02,  4.3073837e-02, -8.2320959e-04,\n",
       "         8.4485278e-02, -2.0456159e-02, -5.2601982e-02, -4.5025203e-02,\n",
       "        -2.3583533e-02, -2.5335545e-02, -6.9100978e-03,  2.8521290e-02,\n",
       "         1.2575068e-01,  2.6452152e-02,  5.8756475e-03, -2.1109952e-02,\n",
       "        -1.9417126e-02, -1.3956637e-02, -5.8531713e-02,  7.6879852e-02,\n",
       "        -1.6535928e-02,  6.2411752e-02,  1.8654037e-02,  1.5294117e-02,\n",
       "        -1.5133640e-01, -2.4017815e-02,  4.6052329e-02,  1.9449944e-02],\n",
       "       dtype=float32)>,\n",
       " <tf.Variable 'batch_normalization/gamma:0' shape=(64,) dtype=float32, numpy=\n",
       " array([1.0029348 , 0.99608946, 1.0319643 , 0.99972665, 0.9948368 ,\n",
       "        0.9991525 , 1.0331124 , 1.0113693 , 0.98741436, 1.0179776 ,\n",
       "        1.0019935 , 1.0638227 , 0.9813254 , 1.0804999 , 0.99927115,\n",
       "        1.0415957 , 1.0100946 , 1.0070567 , 1.0046854 , 1.0595965 ,\n",
       "        1.0513996 , 0.99486995, 0.99481577, 1.0178694 , 1.0253686 ,\n",
       "        0.9959562 , 0.9913168 , 1.0036752 , 0.99787694, 1.0256168 ,\n",
       "        0.9962396 , 0.99835443, 0.99514073, 1.0154059 , 1.0225999 ,\n",
       "        1.0057471 , 0.9930074 , 1.0024225 , 1.0009801 , 0.99367785,\n",
       "        1.2219946 , 0.99215275, 0.99284846, 0.9922785 , 0.9882786 ,\n",
       "        0.99507844, 1.0064245 , 0.9939193 , 1.1606116 , 1.0711005 ,\n",
       "        1.0040523 , 1.0089616 , 1.009593  , 0.9904049 , 0.99558824,\n",
       "        1.0220997 , 1.0012094 , 1.0161386 , 1.084236  , 0.99715495,\n",
       "        0.9681363 , 1.0080378 , 1.0668012 , 1.0002035 ], dtype=float32)>,\n",
       " <tf.Variable 'batch_normalization/beta:0' shape=(64,) dtype=float32, numpy=\n",
       " array([ 0.00595297, -0.01861163, -0.04686942,  0.01184249, -0.00964096,\n",
       "         0.01836274, -0.06877817,  0.04044762, -0.00581945, -0.04433723,\n",
       "         0.02231264, -0.03914394,  0.02847666,  0.07657992,  0.0287049 ,\n",
       "        -0.02606238,  0.01062613, -0.04843642,  0.03672047, -0.0678848 ,\n",
       "        -0.089112  ,  0.00546996,  0.02780796,  0.00728064, -0.04766449,\n",
       "         0.03747048,  0.02726834, -0.01064423, -0.04910135,  0.00774261,\n",
       "        -0.02788273, -0.04340552,  0.01575502, -0.00728872, -0.00256414,\n",
       "         0.06004401, -0.02204147, -0.0358994 ,  0.0366017 ,  0.0123185 ,\n",
       "        -0.11487164,  0.01682768, -0.0053105 , -0.05118574, -0.0309793 ,\n",
       "         0.00602727, -0.05596582,  0.04383774, -0.06248867, -0.01993854,\n",
       "         0.0546662 , -0.01163427, -0.01678477, -0.01559455, -0.06986503,\n",
       "        -0.01160003,  0.00088535,  0.03807697, -0.04015665,  0.02466899,\n",
       "        -0.05351108, -0.00516488, -0.01879196,  0.02493105], dtype=float32)>,\n",
       " <tf.Variable 'dense_1/kernel:0' shape=(64, 64) dtype=float32, numpy=\n",
       " array([[ 0.20337781,  0.06922217, -0.12924354, ...,  0.20068385,\n",
       "         -0.14319307, -0.09301341],\n",
       "        [ 0.1385911 , -0.17248523,  0.02957165, ...,  0.16779275,\n",
       "          0.21189055, -0.07601646],\n",
       "        [ 0.19709922, -0.1797978 ,  0.13501832, ..., -0.20429881,\n",
       "         -0.16971783,  0.00644572],\n",
       "        ...,\n",
       "        [ 0.09493426,  0.06805537, -0.19518887, ..., -0.02368238,\n",
       "          0.07333355, -0.19429782],\n",
       "        [ 0.08502456,  0.02392235,  0.11470333, ..., -0.00901989,\n",
       "          0.03365248,  0.25066024],\n",
       "        [ 0.19394547,  0.18783657, -0.1578641 , ...,  0.1759837 ,\n",
       "          0.20172665, -0.11093505]], dtype=float32)>,\n",
       " <tf.Variable 'dense_1/bias:0' shape=(64,) dtype=float32, numpy=\n",
       " array([ 6.47690566e-03,  4.17282954e-02, -6.06445372e-02,  3.12969531e-03,\n",
       "         3.53055894e-02, -2.52369866e-02, -2.07161214e-02,  1.02534536e-02,\n",
       "        -6.94038987e-04,  4.50422764e-02, -3.41099091e-02,  2.24962085e-02,\n",
       "         9.17397410e-05, -4.26213890e-02,  2.49621080e-04,  3.91330151e-03,\n",
       "         1.09006243e-03,  1.85667034e-02, -5.80325685e-02, -1.70659623e-03,\n",
       "        -6.59745274e-05, -5.22039458e-03, -1.17905568e-02, -1.63277611e-03,\n",
       "        -1.46389734e-02, -6.80561922e-03, -3.01733781e-02,  5.70469312e-02,\n",
       "        -2.39387713e-02, -4.67451056e-03,  3.59806493e-02, -8.05999991e-03,\n",
       "        -2.28322558e-02,  3.42131630e-02, -4.86376062e-02, -9.87549126e-03,\n",
       "        -7.23419338e-03,  3.28748375e-02, -9.12340637e-03,  7.99823478e-02,\n",
       "         6.07555211e-02, -3.82737331e-02,  4.78608161e-02, -3.67837120e-03,\n",
       "        -6.67218268e-02,  2.64588790e-03, -8.75339583e-02, -1.00608505e-02,\n",
       "         5.28990757e-03, -1.41266054e-02,  7.12072924e-02, -1.91213004e-02,\n",
       "        -5.23943081e-02, -1.80998333e-02,  1.76436529e-02, -4.97601591e-02,\n",
       "        -4.80494574e-02, -6.07931800e-02, -9.53485258e-03, -8.60221311e-02,\n",
       "        -6.91254064e-02,  5.49587421e-03, -8.53848923e-03,  1.19492849e-02],\n",
       "       dtype=float32)>,\n",
       " <tf.Variable 'batch_normalization_1/gamma:0' shape=(64,) dtype=float32, numpy=\n",
       " array([1.0022724 , 1.0084901 , 1.011341  , 1.0115315 , 1.0063465 ,\n",
       "        1.1264746 , 1.0226231 , 1.0010389 , 1.0000645 , 1.0018235 ,\n",
       "        0.98832726, 0.9976868 , 0.99977624, 0.9989302 , 1.0506992 ,\n",
       "        1.0020144 , 1.0004878 , 0.9920739 , 0.99531347, 1.0018364 ,\n",
       "        1.0000608 , 1.0494213 , 1.0454068 , 1.0236048 , 0.99580175,\n",
       "        1.0131061 , 1.1321781 , 1.0049516 , 0.99252594, 1.0016155 ,\n",
       "        1.0274465 , 0.9984822 , 1.0026126 , 1.0022163 , 1.0303689 ,\n",
       "        0.9899779 , 0.9991808 , 1.0675981 , 0.9981062 , 1.0160295 ,\n",
       "        0.99448514, 1.0923175 , 0.99332774, 1.0026642 , 0.99325585,\n",
       "        1.0010614 , 0.99049413, 0.997455  , 1.0034299 , 0.99967897,\n",
       "        1.011771  , 0.99876106, 0.991277  , 0.9972965 , 0.98376745,\n",
       "        0.98629004, 0.98920566, 1.0846187 , 1.0020291 , 1.1484461 ,\n",
       "        0.9943343 , 1.0031796 , 1.0018382 , 1.0101947 ], dtype=float32)>,\n",
       " <tf.Variable 'batch_normalization_1/beta:0' shape=(64,) dtype=float32, numpy=\n",
       " array([ 2.4861961e-03, -4.1645799e-02, -4.5742549e-02,  1.1828983e-02,\n",
       "        -3.0641900e-02,  4.7464970e-02,  2.8209655e-02, -3.9632712e-02,\n",
       "        -8.8890304e-04,  1.1575537e-02,  2.6748804e-02,  2.3315730e-02,\n",
       "        -2.5612195e-05, -2.4459232e-02,  3.2146644e-02,  5.3177127e-03,\n",
       "         1.7554795e-03,  3.4613900e-02, -3.2098096e-02, -2.8099815e-04,\n",
       "         1.4748011e-03,  3.0674797e-02,  3.0228242e-02,  2.3992913e-02,\n",
       "         7.8715160e-03, -3.4234673e-02,  5.1957931e-02,  3.4961130e-02,\n",
       "        -3.3377141e-02, -4.7943708e-03,  4.4632867e-02,  1.6495684e-02,\n",
       "        -1.3390648e-02, -3.0599009e-02,  4.3024860e-02, -4.3365981e-02,\n",
       "        -2.4456458e-02,  3.4959462e-02, -1.0394866e-02, -4.5820527e-02,\n",
       "         2.6869876e-02,  4.4227704e-02, -3.3798926e-02,  1.4582743e-02,\n",
       "         2.2362404e-02, -6.3992767e-03, -4.2865843e-02,  1.4744089e-02,\n",
       "         1.7196154e-03, -1.1362991e-02, -3.6946692e-02, -1.5240582e-02,\n",
       "        -3.6330648e-02, -1.7303107e-02,  4.4458140e-02,  4.0744618e-02,\n",
       "        -3.8297269e-02,  4.3770041e-02, -3.6631353e-02,  4.6496060e-02,\n",
       "        -2.0270208e-02,  7.1882862e-03, -1.4215818e-02,  4.7925144e-02],\n",
       "       dtype=float32)>,\n",
       " <tf.Variable 'dense_2/kernel:0' shape=(64, 1) dtype=float32, numpy=\n",
       " array([[ 6.48976341e-02],\n",
       "        [-2.50931948e-01],\n",
       "        [-3.19439948e-01],\n",
       "        [ 1.52434081e-01],\n",
       "        [-1.91822782e-01],\n",
       "        [ 5.52519858e-01],\n",
       "        [ 2.57107079e-01],\n",
       "        [-2.50256717e-01],\n",
       "        [ 3.24756764e-02],\n",
       "        [ 9.15889665e-02],\n",
       "        [ 1.04284339e-01],\n",
       "        [ 1.34088680e-01],\n",
       "        [ 6.31162897e-03],\n",
       "        [-1.41829595e-01],\n",
       "        [ 3.60642225e-01],\n",
       "        [ 9.29159597e-02],\n",
       "        [-1.09077385e-02],\n",
       "        [ 1.88533947e-01],\n",
       "        [-1.88363850e-01],\n",
       "        [-3.53120416e-02],\n",
       "        [ 1.34288426e-02],\n",
       "        [ 3.47830921e-01],\n",
       "        [ 3.31303090e-01],\n",
       "        [ 2.43560553e-01],\n",
       "        [ 3.41510691e-04],\n",
       "        [-2.57381588e-01],\n",
       "        [ 5.74143291e-01],\n",
       "        [ 2.43709669e-01],\n",
       "        [-1.85261428e-01],\n",
       "        [-4.41726223e-02],\n",
       "        [ 3.66626531e-01],\n",
       "        [ 8.93172026e-02],\n",
       "        [-1.04196832e-01],\n",
       "        [-1.66737974e-01],\n",
       "        [ 3.50284219e-01],\n",
       "        [-2.38059551e-01],\n",
       "        [-1.44552737e-01],\n",
       "        [ 4.40782249e-01],\n",
       "        [ 2.57105064e-02],\n",
       "        [-2.87750334e-01],\n",
       "        [ 1.83557615e-01],\n",
       "        [ 4.79164511e-01],\n",
       "        [-1.56239718e-01],\n",
       "        [ 1.12612389e-01],\n",
       "        [ 1.02782622e-01],\n",
       "        [-6.76229075e-02],\n",
       "        [-2.47333527e-01],\n",
       "        [ 7.25722760e-02],\n",
       "        [ 7.30911717e-02],\n",
       "        [-7.43524134e-02],\n",
       "        [-2.32356459e-01],\n",
       "        [-8.93034860e-02],\n",
       "        [-2.01623812e-01],\n",
       "        [-8.73277411e-02],\n",
       "        [ 2.31485561e-01],\n",
       "        [ 2.04296276e-01],\n",
       "        [-2.13507473e-01],\n",
       "        [ 4.67869073e-01],\n",
       "        [-2.36140281e-01],\n",
       "        [ 5.91748714e-01],\n",
       "        [-1.01211414e-01],\n",
       "        [ 1.00773960e-01],\n",
       "        [-9.60569158e-02],\n",
       "        [ 3.24914992e-01]], dtype=float32)>,\n",
       " <tf.Variable 'dense_2/bias:0' shape=(1,) dtype=float32, numpy=array([0.1634889], dtype=float32)>]"
      ]
     },
     "execution_count": 41,
     "metadata": {},
     "output_type": "execute_result"
    }
   ],
   "source": [
    "model2.trainable_variables"
   ]
  },
  {
   "cell_type": "code",
   "execution_count": null,
   "id": "d17ffb5c-962b-4416-9cb6-a2dca37ecc4d",
   "metadata": {},
   "outputs": [],
   "source": []
  }
 ],
 "metadata": {
  "kernelspec": {
   "display_name": "Python 3 (ipykernel)",
   "language": "python",
   "name": "python3"
  },
  "language_info": {
   "codemirror_mode": {
    "name": "ipython",
    "version": 3
   },
   "file_extension": ".py",
   "mimetype": "text/x-python",
   "name": "python",
   "nbconvert_exporter": "python",
   "pygments_lexer": "ipython3",
   "version": "3.9.0"
  }
 },
 "nbformat": 4,
 "nbformat_minor": 5
}
