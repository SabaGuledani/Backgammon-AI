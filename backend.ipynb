{
 "cells": [
  {
   "cell_type": "code",
   "execution_count": 3,
   "id": "a2599da3-969e-43ea-b491-38662467553d",
   "metadata": {},
   "outputs": [
    {
     "ename": "NameError",
     "evalue": "name 'model' is not defined",
     "output_type": "error",
     "traceback": [
      "\u001b[1;31m---------------------------------------------------------------------------\u001b[0m",
      "\u001b[1;31mNameError\u001b[0m                                 Traceback (most recent call last)",
      "Cell \u001b[1;32mIn[3], line 49\u001b[0m\n\u001b[0;32m     46\u001b[0m                 env\u001b[38;5;241m.\u001b[39mcounter \u001b[38;5;241m=\u001b[39m tmp_counter\n\u001b[0;32m     48\u001b[0m         \u001b[38;5;28;01mreturn\u001b[39;00m best_action\n\u001b[1;32m---> 49\u001b[0m agents \u001b[38;5;241m=\u001b[39m {WHITE: TDAgent(WHITE, model\u001b[38;5;241m=\u001b[39m\u001b[43mmodel\u001b[49m), BLACK: TDAgent(BLACK, model\u001b[38;5;241m=\u001b[39mmodel)}\n",
      "\u001b[1;31mNameError\u001b[0m: name 'model' is not defined"
     ]
    }
   ],
   "source": [
    "import gym\n",
    "import gym_backgammon\n",
    "from gym_backgammon.envs.backgammon import WHITE, BLACK, COLORS, TOKEN\n",
    "env = gym.make('gym_backgammon:backgammon-v0')\n",
    "\n",
    "class TDAgent:\n",
    "    def __init__(self, color, model):\n",
    "        self.color = color\n",
    "        self.model = model\n",
    "        self.name = 'TDAgent({})'.format(COLORS[color])\n",
    "\n",
    "    def roll_dice(self):\n",
    "        return (-randint(1, 6), -randint(1, 6)) if self.color == WHITE else (randint(1, 6), randint(1, 6))\n",
    "\n",
    "    def choose_best_action(self, actions, env,exploration_rate):\n",
    "        best_action = None\n",
    "        observations = []\n",
    "        if actions:\n",
    "            actions = list(actions)\n",
    "            \n",
    "            # print(exploration_rate)\n",
    "            if random.uniform(0,1)<exploration_rate:\n",
    "                best_action = random.choice(actions)\n",
    "            else:\n",
    "                tmp_counter = env.counter\n",
    "                env.counter = 0\n",
    "                state = env.game.save_state()\n",
    "                \n",
    "                # Iterate over all the legal moves and pick the best action\n",
    "                for i, action in enumerate(actions):\n",
    "                    observation, reward, done, info = env.step(action)\n",
    "                    observations.append(observation)\n",
    "    \n",
    "                    # restore the board and other variables (undo the action)\n",
    "                    env.game.restore_state(state)\n",
    "                observations = np.array(observations)\n",
    "                print(observations[0])\n",
    "                \n",
    "                values = self.model.predict(observations).flatten()\n",
    "                \n",
    "                # practical-issues-in-temporal-difference-learning, pag.3\n",
    "                # ... the network's output P_t is an estimate of White's probability of winning from board position x_t.\n",
    "                # ... the move which is selected at each time step is the move which maximizes P_t when White is to play and minimizes P_t when Black is to play.\n",
    "                best_action_index = int(np.argmax(values)) if self.color == WHITE else int(np.argmin(values))\n",
    "                best_action = actions[best_action_index]\n",
    "                env.counter = tmp_counter\n",
    "\n",
    "        return best_action\n",
    "\n",
    "model = tf.keras.models.load_model(\"./gym_env_models/backgammon_RLmodel_gym_80_5_10000.h5\")\n",
    "agents = {WHITE: TDAgent(WHITE, model=model), BLACK: TDAgent(BLACK, model=model)}"
   ]
  },
  {
   "cell_type": "code",
   "execution_count": 2,
   "id": "aa3eafb4-d784-45ae-9441-ced150294d63",
   "metadata": {},
   "outputs": [],
   "source": []
  },
  {
   "cell_type": "code",
   "execution_count": null,
   "id": "d423075b-39af-41f5-938a-bef246f0d1cb",
   "metadata": {},
   "outputs": [],
   "source": []
  }
 ],
 "metadata": {
  "kernelspec": {
   "display_name": "Python 3 (ipykernel)",
   "language": "python",
   "name": "python3"
  },
  "language_info": {
   "codemirror_mode": {
    "name": "ipython",
    "version": 3
   },
   "file_extension": ".py",
   "mimetype": "text/x-python",
   "name": "python",
   "nbconvert_exporter": "python",
   "pygments_lexer": "ipython3",
   "version": "3.9.21"
  }
 },
 "nbformat": 4,
 "nbformat_minor": 5
}
