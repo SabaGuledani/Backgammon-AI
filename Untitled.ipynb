{
 "cells": [
  {
   "cell_type": "code",
   "execution_count": 1,
   "id": "e5aeb973-1009-495c-b8d1-b97c4bb54fda",
   "metadata": {},
   "outputs": [
    {
     "name": "stdout",
     "output_type": "stream",
     "text": [
      "Num GPUs Available:  1\n"
     ]
    }
   ],
   "source": [
    "import backgammon\n",
    "import random\n",
    "import numpy as np\n",
    "import tensorflow as tf\n",
    "from tensorflow.keras import Sequential\n",
    "from tensorflow.keras.optimizers import Adam\n",
    "from tensorflow.keras.layers import Dense, Dropout\n",
    "\n",
    "# if GPU is available this code will state 1\n",
    "print(\"Num GPUs Available: \", len(tf.config.list_physical_devices('GPU')))\n",
    "\n",
    "class BGBoard:\n",
    "    def __init__(self):\n",
    "        self.board = backgammon.Backgammon()\n",
    "        self.board.start()\n",
    "        self.turn = self.board.match.player\n",
    "        self.winner = -1\n",
    "        self.state_players = []\n",
    "        \n",
    "    def get_moves_and_positions(self):\n",
    "        possible_moves_positions = {}\n",
    "        for play in self.board.generate_plays():\n",
    "            pair = []\n",
    "            for move in play.moves:\n",
    "                pair.append((move.source,move.destination))\n",
    "            possible_moves_positions[tuple(pair)] = self.state(play.position)\n",
    "        return possible_moves_positions\n",
    "\n",
    "    def get_possible_moves(self, possible_moves_positions:dict):\n",
    "        possible_moves = possible_moves_positions.keys()\n",
    "        return list(possible_moves)\n",
    "    \n",
    "    def state(self,position):\n",
    "        # position = self.board.position\n",
    "        board_points = list(position.board_points)\n",
    "        p_bar = [position.player_bar]\n",
    "        p_off = [position.player_off]\n",
    "        op_bar = [position.opponent_bar]\n",
    "        op_off = [position.opponent_off]\n",
    "        die_1 = [self.board.match.dice[0]]\n",
    "        die_2 = [self.board.match.dice[1]]\n",
    "        current_player = [self.board.match.player.value]\n",
    "        state_list = board_points+p_bar+p_off+op_bar+op_off+die_1+die_2+current_player\n",
    "        state_array = np.array(state_list)/15\n",
    "        \n",
    "        return state_array\n",
    "\n",
    "    def make_move(self, move):\n",
    "        '''\n",
    "        move is tuple of tuples. e.g ((22,19),(23,21),...)\n",
    "        '''\n",
    "        self.state_players.append(int(self.board.match.turn.value))\n",
    "        if move == None:\n",
    "            self.board.skip()\n",
    "        else:\n",
    "            self.board.play(move)\n",
    "        \n",
    "        \n",
    "        if self.is_over():\n",
    "            return self.winner\n",
    "            \n",
    "        if self.board.match.dice == (0, 0):\n",
    "            self.board.roll()\n",
    "        \n",
    "    def is_over(self):\n",
    "        p0_score = self.board.match.player_0_score\n",
    "        p1_score = self.board.match.player_1_score\n",
    "        \n",
    "        if p0_score > p1_score:\n",
    "            self.winner = 0\n",
    "            return True\n",
    "        elif p0_score < p1_score:\n",
    "            self.winner = 1\n",
    "            return True\n",
    "        else:\n",
    "            return False\n",
    "\n",
    "    # def get_reward(self):\n",
    "    #     player = self.board.match.player\n",
    "    #     if winner != -1:\n",
    "    #         if winner == player:\n",
    "    #             return torch.tensor(1,device=device, dtype=torch.float32)\n",
    "    #         elif winner != player:\n",
    "    #             return torch.tensor(-1,device=device, dtype=torch.float32)\n",
    "        "
   ]
  },
  {
   "cell_type": "code",
   "execution_count": 2,
   "id": "143cf0c3-00a4-4c39-88d4-23dd866c5dd3",
   "metadata": {},
   "outputs": [],
   "source": [
    "model = Sequential([\n",
    "    Dense(96, activation='relu', input_shape=(31,)), # 31 features for board state\n",
    "    Dropout(0.3),\n",
    "    Dense(64, activation='relu'),\n",
    "    Dropout(0.3),\n",
    "    Dense(1, activation=\"tanh\")  # Output: Estimated value of the state\n",
    "])\n",
    "\n",
    "optimizer = Adam(learning_rate=0.00002)\n",
    "\n",
    "# Compile the model\n",
    "model.compile(optimizer=optimizer,\n",
    "              loss='mean_squared_error')\n",
    "\n",
    "lambda_ = 0.7 # Eligibility trace decay\n",
    "alpha = 0.1 # Learning rate\n",
    "gamma = 0.99  # Discount factor\n",
    "\n",
    "        \n",
    "    \n",
    "\n",
    "\n",
    "def td_lambda_update(self, states, rewards, model, alpha=0.00002, gamma=gamma, lambda_=lambda_):\n",
    "    \"\"\"\n",
    "    Perform TD(λ) updates on the model.\n",
    "\n",
    "    Args:\n",
    "        states: List of game states (numpy arrays).\n",
    "        rewards: List of rewards for each state.\n",
    "        model: The neural network model.\n",
    "        alpha: Learning rate.\n",
    "        gamma: Discount factor.\n",
    "        lambda_: Eligibility trace decay factor.\n",
    "        \n",
    "    \"\"\"\n",
    "    # Initialize eligibility traces with the same shapes as trainable variables\n",
    "    eligibility_traces = [tf.zeros_like(var) for var in model.trainable_variables]\n",
    "\n",
    "    for t in range(len(states) - 1):\n",
    "        with tf.GradientTape() as tape:\n",
    "            # Predict current and next state values\n",
    "            V_t = model(tf.convert_to_tensor([states[t]], dtype=tf.float32))  # Shape: (1, 1)\n",
    "            V_t_plus_1 = model(tf.convert_to_tensor([states[t + 1]], dtype=tf.float32))  # Shape: (1, 1)\n",
    "\n",
    "            # Compute TD error (delta_t)\n",
    "            delta_t = rewards[t] + gamma * tf.squeeze(V_t_plus_1) - tf.squeeze(V_t)\n",
    "\n",
    "        # Calculate gradients for the current state's value prediction\n",
    "        gradients = tape.gradient(V_t, model.trainable_variables)\n",
    "\n",
    "        # Update eligibility traces and model weights\n",
    "        for i in range(len(model.trainable_variables)):\n",
    "            # Ensure gradient and eligibility trace shapes match\n",
    "            if gradients[i] is not None:  # Some variables may not contribute to the gradient\n",
    "                eligibility_traces[i] = gamma * lambda_ * eligibility_traces[i] + gradients[i]\n",
    "                \n",
    "                # Ensure eligibility trace matches the variable's shape\n",
    "                eligibility_trace = tf.reshape(eligibility_traces[i], model.trainable_variables[i].shape)\n",
    "                \n",
    "                # Perform the TD(λ) weight update\n",
    "                model.trainable_variables[i].assign_add(alpha * delta_t * eligibility_trace)\n"
   ]
  },
  {
   "cell_type": "code",
   "execution_count": 3,
   "id": "7fc0c020-c2da-457b-9443-50e0ee39e293",
   "metadata": {},
   "outputs": [],
   "source": [
    "\n",
    "def play_game(model,random_threshold=0.75):\n",
    "    states = []\n",
    "    b = BGBoard()\n",
    "    \n",
    "    while not b.is_over():\n",
    "        position = b.board.position\n",
    "        current_state = b.state(position)\n",
    "        # Append the current state (for the current player)\n",
    "        states.append(current_state)\n",
    "        \n",
    "        moves_positions = b.get_moves_and_positions()\n",
    "        possible_moves = b.get_possible_moves(moves_positions)\n",
    "        \n",
    "        \n",
    "        move_values = []\n",
    "        \n",
    "        if moves_positions != {}:\n",
    "            if random.uniform(0,1)<random_threshold:\n",
    "                best_move = random.choice(possible_moves)\n",
    "            \n",
    "            else:\n",
    "                    # Create a batch of next states for all possible moves\n",
    "                next_states = np.array([moves_positions[move] for move in possible_moves])\n",
    "                \n",
    "                # Predict values for all possible moves in a single batch\n",
    "                move_values = model.predict(next_states).flatten()  # Flatten to 1D array\n",
    "            \n",
    "                best_move = possible_moves[np.argmax(move_values)]\n",
    "        else:\n",
    "            best_move = None\n",
    "        b.make_move(best_move)\n",
    "        # print(b.board)\n",
    "    filter_array = np.array(b.state_players)\n",
    "    states = np.array(states)\n",
    "    states_winner = states[filter_array == b.winner]\n",
    "    states_loser = states[filter_array != b.winner]\n",
    "    final_rewards_winner = [0 for state_player in b.state_players if state_player == b.winner]\n",
    "    final_rewards_loser = [0 for state_player in b.state_players if state_player != b.winner]\n",
    "    final_rewards_winner[-1] = 1\n",
    "    final_rewards_loser[-1] = -1\n",
    "    # print(\"winner\")\n",
    "    # print(b.winner)\n",
    "    # print(final_rewards_winner)\n",
    "    # print(\"loser\")\n",
    "    # print(final_rewards_loser)\n",
    "    return states_winner, states_loser, final_rewards_winner, final_rewards_loser\n",
    "\n",
    "    "
   ]
  },
  {
   "cell_type": "code",
   "execution_count": 5,
   "id": "9f379dec-28ee-4688-9218-b6edc56159f1",
   "metadata": {},
   "outputs": [
    {
     "name": "stdout",
     "output_type": "stream",
     "text": [
      "progress: 909/2500, threshold: 0.48179999999997997 \r"
     ]
    },
    {
     "name": "stderr",
     "output_type": "stream",
     "text": [
      "\n",
      "KeyboardInterrupt\n",
      "\n"
     ]
    }
   ],
   "source": [
    "last_epoch = 909\n",
    "epochs = 2500\n",
    "random_threshold = 0.3\n",
    "for epoch in range(last_epoch, epochs):  # Number of training games\n",
    "    print(f'progress: {epoch}/{epochs}, threshold: {random_threshold} ',end='\\r')\n",
    "    # Generate a game through self-play\n",
    "    states_winner,states_loser, rewards_winner, rewards_loser = play_game(model,random_threshold)\n",
    "    random_threshold += 0.0002\n",
    "    \n",
    "    # Perform TD(λ) updates\n",
    "    td_lambda_update(states_winner, rewards_winner, model)\n",
    "    td_lambda_update(states_loser,rewards_loser,model)\n",
    "\n",
    "    # Evaluate the model every 100 games\n",
    "    if epoch % 100 == 0:\n",
    "        model.save(f\"backgammon_RLmodel_64_02_{epoch}.h5\")\n",
    "    "
   ]
  },
  {
   "cell_type": "code",
   "execution_count": 4,
   "id": "4a988bf0-c3db-4e54-a519-d6cc12a049f9",
   "metadata": {},
   "outputs": [],
   "source": [
    "def evaluate_play_game(model_dumb,model_smart):\n",
    "    states = []\n",
    "    b = BGBoard()\n",
    "    i = 1\n",
    "    while not b.is_over():\n",
    "        \n",
    "        if i % 2 == 0:\n",
    "            model = model_smart\n",
    "        else:\n",
    "            model = model_dumb\n",
    "        i+=1\n",
    "        position = b.board.position\n",
    "        current_state = b.state(position)\n",
    "        # Append the current state (for the current player)\n",
    "        states.append(current_state)\n",
    "        \n",
    "        moves_positions = b.get_moves_and_positions()\n",
    "        possible_moves = b.get_possible_moves(moves_positions)\n",
    "        first_player = b.board.match.turn.value\n",
    "        # if i == 1:\n",
    "            # print(f'{first_player} is player_dumb')\n",
    "        move_values = []\n",
    "        \n",
    "        if moves_positions != {}:\n",
    "\n",
    "            # Create a batch of next states for all possible moves\n",
    "            next_states = np.array([moves_positions[move] for move in possible_moves])\n",
    "            \n",
    "            # Predict values for all possible moves in a single batch\n",
    "            move_values = model.predict(next_states).flatten()  # Flatten to 1D array\n",
    "\n",
    "            best_move = possible_moves[np.argmax(move_values)]\n",
    "        else:\n",
    "            best_move = None\n",
    "        b.make_move(best_move)\n",
    "        # print(b.board)\n",
    " \n",
    "    p0_score = b.board.match.player_0_score\n",
    "    p1_score = b.board.match.player_1_score\n",
    "    # print(f\"dumb's score : {p0_score},smart's score: {p1_score}\")\n",
    "    return p0_score,p1_score\n",
    "    "
   ]
  },
  {
   "cell_type": "code",
   "execution_count": 6,
   "id": "ac067396-fd31-4d7f-b97e-1c9477a65bae",
   "metadata": {},
   "outputs": [
    {
     "name": "stdout",
     "output_type": "stream",
     "text": [
      "179/166\r"
     ]
    },
    {
     "name": "stderr",
     "output_type": "stream",
     "text": [
      "\n",
      "KeyboardInterrupt\n",
      "\n"
     ]
    }
   ],
   "source": [
    "model_dumb = tf.keras.models.load_model('./backgammon_RLmodel_64_02_100.h5')\n",
    "model_smart = tf.keras.models.load_model('./backgammon_RLmodel_64_02_900.h5')\n",
    "p0_scores = []\n",
    "p1_scores = []\n",
    "def calculate_wins(p):\n",
    "    all_wins = []\n",
    "    for score in p:\n",
    "        if score > 0:\n",
    "            all_wins.append(score)\n",
    "    return len(all_wins)\n",
    "for i in range(400):\n",
    "    p0,p1 = evaluate_play_game(model_dumb,model_smart)\n",
    "    p0_scores.append(p0)\n",
    "    p1_scores.append(p1)\n",
    "    print(f\"{calculate_wins(p0_scores)}/{calculate_wins(p1_scores)}\", end='\\r')\n",
    "    \n"
   ]
  },
  {
   "cell_type": "code",
   "execution_count": 31,
   "id": "b72fa75c-3e07-49d9-b070-19acbf85214a",
   "metadata": {},
   "outputs": [
    {
     "name": "stdout",
     "output_type": "stream",
     "text": [
      "102 140\n"
     ]
    }
   ],
   "source": [
    "print(sum(p0_scores),sum(p1_scores))\n",
    "all_wins_0 = []\n",
    "all_wins_1 =  []\n",
    "def calculate_wins(p):\n",
    "    all_wins = []\n",
    "    for score in p:\n",
    "        if score > 0:\n",
    "            all_wins.append(score)\n",
    "    return len(all_wins)"
   ]
  },
  {
   "cell_type": "code",
   "execution_count": 68,
   "id": "1f6180d6-d73e-4339-b868-b3269c2a79c2",
   "metadata": {},
   "outputs": [],
   "source": [
    "model_dumb = None\n",
    "model_smart = None \n",
    "del model_dumb,model_smart"
   ]
  },
  {
   "cell_type": "code",
   "execution_count": 33,
   "id": "1ca9d6db-2e1a-4970-b4b9-942cdd43f61e",
   "metadata": {},
   "outputs": [
    {
     "name": "stdout",
     "output_type": "stream",
     "text": [
      "49\n",
      "64\n"
     ]
    }
   ],
   "source": [
    "print(calculate_wins(p0_scores))\n",
    "print(calculate_wins(p1_scores))\n"
   ]
  },
  {
   "cell_type": "code",
   "execution_count": 39,
   "id": "6a702261-fea7-4e6a-aff7-7a1f32d64242",
   "metadata": {},
   "outputs": [],
   "source": [
    "b = BGBoard()\n",
    "# b.start()\n"
   ]
  },
  {
   "cell_type": "code",
   "execution_count": 41,
   "id": "14f00c79-3f46-4725-8063-170d70977679",
   "metadata": {},
   "outputs": [
    {
     "name": "stdout",
     "output_type": "stream",
     "text": [
      "                 Position ID: 4HPwATDgc/ABMA\n",
      "                 Match ID   : cAltAAAAAAAA\n",
      " +13-14-15-16-17-18------19-20-21-22-23-24-+\n",
      " | X           O    |   | O              X |\n",
      " | X           O    |   | O              X |\n",
      " | X           O    |   | O                |\n",
      " | X                |   | O                |\n",
      " | X                |   | O                |\n",
      "v|                  |BAR|                  |\n",
      " | O                |   | X                |\n",
      " | O                |   | X                |\n",
      " | O           X    |   | X                |\n",
      " | O           X    |   | X              O |\n",
      " | O           X    |   | X              O |\n",
      " +12-11-10--9--8--7-------6--5--4--3--2--1-+\n",
      "\n"
     ]
    }
   ],
   "source": [
    "print(b.board)"
   ]
  },
  {
   "cell_type": "code",
   "execution_count": 42,
   "id": "d9896f4d-c949-43be-bb5c-ad238c7b0f43",
   "metadata": {},
   "outputs": [],
   "source": [
    "position = b.board.position\n",
    "current_state = b.state(position)\n",
    "# Append the current state (for the current player)\n",
    "states.append(current_state)\n",
    "\n",
    "moves_positions = b.get_moves_and_positions()\n",
    "possible_moves = b.get_possible_moves(moves_positions)\n",
    "first_player = b.board.match.turn.value\n",
    "# if i == 1:\n",
    "    # print(f'{first_player} is player_dumb')\n",
    "move_values = []\n",
    "\n",
    "if moves_positions != {}:\n",
    "\n",
    "    # Create a batch of next states for all possible moves\n",
    "    next_states = np.array([moves_positions[move] for move in possible_moves])\n",
    "    \n",
    "    # Predict values for all possible moves in a single batch\n",
    "    move_values = model_smart.predict(next_states).flatten()  # Flatten to 1D array\n",
    "\n",
    "    best_move = possible_moves[np.argmax(move_values)]\n",
    "else:\n",
    "    best_move = None"
   ]
  },
  {
   "cell_type": "code",
   "execution_count": 47,
   "id": "e713f25d-9035-48f1-8a4b-edd20d645a14",
   "metadata": {},
   "outputs": [
    {
     "name": "stdout",
     "output_type": "stream",
     "text": [
      "[((7, 5), (12, 9)), ((12, 10), (10, 7)), ((12, 10), (23, 20)), ((7, 5), (23, 20)), ((23, 21), (7, 4)), ((23, 21), (12, 9)), ((23, 21), (5, 2)), ((5, 3), (23, 20)), ((5, 3), (7, 4)), ((12, 10), (5, 2)), ((5, 3), (12, 9)), ((5, 3), (5, 2)), ((23, 21), (23, 20)), ((7, 5), (7, 4)), ((7, 5), (5, 2)), ((12, 10), (12, 9)), ((12, 10), (7, 4))]\n",
      "[-0.06178284 -0.08350936 -0.0698778  -0.06428883 -0.04922668 -0.04423356\n",
      " -0.05701607 -0.10789806 -0.1091629  -0.07325294 -0.1095074  -0.11514501\n",
      " -0.06106399 -0.06847084 -0.06826864 -0.06854022 -0.07058718]\n"
     ]
    }
   ],
   "source": [
    "print(possible_moves)\n",
    "print(move_values)"
   ]
  },
  {
   "cell_type": "code",
   "execution_count": 213,
   "id": "d6a5ef6e-e83d-427e-a8f3-57a92a2732ab",
   "metadata": {},
   "outputs": [],
   "source": []
  },
  {
   "cell_type": "code",
   "execution_count": 11,
   "id": "42274315-1903-4546-ab78-576751da792e",
   "metadata": {},
   "outputs": [],
   "source": [
    "k = 0.7\n",
    "for i in range(1000):\n",
    "    k += 0.0002"
   ]
  },
  {
   "cell_type": "code",
   "execution_count": 12,
   "id": "8d7bdb04-3ed7-46f8-8ebf-3cf1325a1d3d",
   "metadata": {},
   "outputs": [
    {
     "name": "stdout",
     "output_type": "stream",
     "text": [
      "0.8999999999999779\n"
     ]
    }
   ],
   "source": [
    "print(k)"
   ]
  },
  {
   "cell_type": "code",
   "execution_count": null,
   "id": "f6523dda-896d-46c8-80ec-2292b1dea9e0",
   "metadata": {},
   "outputs": [],
   "source": []
  },
  {
   "cell_type": "code",
   "execution_count": null,
   "id": "73a2c002-b88a-4a25-847d-9ae541844ab2",
   "metadata": {},
   "outputs": [],
   "source": [
    "counter = 0\n",
    "roll = False\n",
    "winner = None\n",
    "while winner == None:\n",
    "    \n",
    "    possible_moves = []\n",
    "    if roll == True:\n",
    "        b.roll()\n",
    "        \n",
    "    for play in b.generate_plays():\n",
    "        pair = []\n",
    "        for move in play.moves:\n",
    "            pair.append((move.source,move.destination))\n",
    "        possible_moves.append(tuple(pair))\n",
    "    if len(possible_moves) < 1:\n",
    "        b.skip()\n",
    "        counter +=1\n",
    "        print(counter, end='\\r')\n",
    "        continue\n",
    "    move = random.choice(possible_moves)\n",
    "    print(move)\n",
    "    \n",
    "    b.play(move)\n",
    "    \n",
    "    roll = True\n",
    "    counter +=1\n",
    "    \n",
    "    print(b.position.player_off)\n",
    "    if b.match.player_1_score > 1:\n",
    "        print(f\"player 1 won\")\n",
    "        winner = 1\n",
    "        break\n",
    "    elif b.match.player_0_score > 1:\n",
    "        print(f\"player 0 won\")\n",
    "        winner = 0\n",
    "        break"
   ]
  },
  {
   "cell_type": "code",
   "execution_count": 121,
   "id": "f2ae2a62-2fdc-491a-9a77-b1890637bd22",
   "metadata": {},
   "outputs": [
    {
     "name": "stdout",
     "output_type": "stream",
     "text": [
      "(0, 0)\n"
     ]
    }
   ],
   "source": [
    "print(b.match.dice)"
   ]
  },
  {
   "cell_type": "code",
   "execution_count": 195,
   "id": "99227d28-2678-4452-bf0f-40954e6f039f",
   "metadata": {
    "scrolled": true
   },
   "outputs": [
    {
     "name": "stdout",
     "output_type": "stream",
     "text": [
      "Play(moves=(Move(pips=2, source=23, destination=21), Move(pips=5, source=7, destination=2)), position=Position(board_points=(-2, 0, 1, 0, 0, 5, 0, 2, 0, 0, 0, -5, 5, 0, 0, 0, -3, 0, -5, 0, 0, 1, 0, 1), player_bar=0, player_off=0, opponent_bar=0, opponent_off=0))\n",
      "#\n",
      "Play(moves=(Move(pips=2, source=23, destination=21), Move(pips=5, source=12, destination=7)), position=Position(board_points=(-2, 0, 0, 0, 0, 5, 0, 4, 0, 0, 0, -5, 4, 0, 0, 0, -3, 0, -5, 0, 0, 1, 0, 1), player_bar=0, player_off=0, opponent_bar=0, opponent_off=0))\n",
      "#\n",
      "Play(moves=(Move(pips=2, source=7, destination=5), Move(pips=5, source=12, destination=7)), position=Position(board_points=(-2, 0, 0, 0, 0, 6, 0, 3, 0, 0, 0, -5, 4, 0, 0, 0, -3, 0, -5, 0, 0, 0, 0, 2), player_bar=0, player_off=0, opponent_bar=0, opponent_off=0))\n",
      "#\n",
      "Play(moves=(Move(pips=2, source=5, destination=3), Move(pips=5, source=12, destination=7)), position=Position(board_points=(-2, 0, 0, 1, 0, 4, 0, 4, 0, 0, 0, -5, 4, 0, 0, 0, -3, 0, -5, 0, 0, 0, 0, 2), player_bar=0, player_off=0, opponent_bar=0, opponent_off=0))\n",
      "#\n",
      "Play(moves=(Move(pips=2, source=5, destination=3), Move(pips=5, source=7, destination=2)), position=Position(board_points=(-2, 0, 1, 1, 0, 4, 0, 2, 0, 0, 0, -5, 5, 0, 0, 0, -3, 0, -5, 0, 0, 0, 0, 2), player_bar=0, player_off=0, opponent_bar=0, opponent_off=0))\n",
      "#\n",
      "Play(moves=(Move(pips=2, source=12, destination=10), Move(pips=5, source=7, destination=2)), position=Position(board_points=(-2, 0, 1, 0, 0, 5, 0, 2, 0, 0, 1, -5, 4, 0, 0, 0, -3, 0, -5, 0, 0, 0, 0, 2), player_bar=0, player_off=0, opponent_bar=0, opponent_off=0))\n",
      "#\n",
      "Play(moves=(Move(pips=2, source=7, destination=5), Move(pips=5, source=7, destination=2)), position=Position(board_points=(-2, 0, 1, 0, 0, 6, 0, 1, 0, 0, 0, -5, 5, 0, 0, 0, -3, 0, -5, 0, 0, 0, 0, 2), player_bar=0, player_off=0, opponent_bar=0, opponent_off=0))\n",
      "#\n",
      "Play(moves=(Move(pips=2, source=12, destination=10), Move(pips=5, source=12, destination=7)), position=Position(board_points=(-2, 0, 0, 0, 0, 5, 0, 4, 0, 0, 1, -5, 3, 0, 0, 0, -3, 0, -5, 0, 0, 0, 0, 2), player_bar=0, player_off=0, opponent_bar=0, opponent_off=0))\n",
      "#\n"
     ]
    }
   ],
   "source": [
    "# print(b.match.player_1_score)\n",
    "for play in b.generate_plays():\n",
    "    print(play)\n",
    "    print(\"#\")"
   ]
  },
  {
   "cell_type": "code",
   "execution_count": 181,
   "id": "61addd40-5f48-443d-93f4-c5ecc61337ce",
   "metadata": {},
   "outputs": [
    {
     "name": "stdout",
     "output_type": "stream",
     "text": [
      "[-2  0  0  0  0  5  0  3  0  0  0 -5  5  0  0  0 -3  0 -5  0  0  0  0  2\n",
      "  0  0  0  0]\n"
     ]
    }
   ],
   "source": [
    "b = backgammon.Backgammon()\n",
    "position = b.position\n",
    "board_points = list(position.board_points)\n",
    "p_bar = [position.player_bar]\n",
    "p_off = [position.player_off]\n",
    "op_bar = [position.opponent_bar]\n",
    "op_off = [position.opponent_off]\n",
    "\n",
    "\n",
    "\n",
    "\n",
    "state_list = board_points+p_bar+p_off+op_bar+op_off\n",
    "state_array = np.array(state_list)\n",
    "print(state_array)"
   ]
  },
  {
   "cell_type": "code",
   "execution_count": 162,
   "id": "21b03398-f121-4504-ad1b-da54e7936ed5",
   "metadata": {},
   "outputs": [
    {
     "data": {
      "text/plain": [
       "backgammon.backgammon.Backgammon('dwJRSwEAAAAAAA', 'cIoEAAAAIAAA')"
      ]
     },
     "execution_count": 162,
     "metadata": {},
     "output_type": "execute_result"
    }
   ],
   "source": [
    "b.end_game(1)"
   ]
  },
  {
   "cell_type": "code",
   "execution_count": 182,
   "id": "53a54f74-a0a2-4a27-b747-8b36784c6906",
   "metadata": {},
   "outputs": [
    {
     "data": {
      "text/plain": [
       "28"
      ]
     },
     "execution_count": 182,
     "metadata": {},
     "output_type": "execute_result"
    }
   ],
   "source": [
    "len(state_array)"
   ]
  },
  {
   "cell_type": "code",
   "execution_count": 184,
   "id": "57d260e5-ce0c-4530-907c-50fb2cbb2567",
   "metadata": {},
   "outputs": [],
   "source": [
    "b = backgammon.Backgammon()\n",
    "b.first_roll()\n",
    "possible_moves = []\n",
    "for play in b.generate_plays():\n",
    "    pair = []\n",
    "    for move in play.moves:\n",
    "        pair.append((move.source,move.destination))\n",
    "    possible_moves.append(tuple(pair))"
   ]
  },
  {
   "cell_type": "code",
   "execution_count": 185,
   "id": "eaca7c6f-8a08-4bdf-89b3-6bcb35a51638",
   "metadata": {},
   "outputs": [
    {
     "data": {
      "text/plain": [
       "[((23, 21), (7, 2)),\n",
       " ((23, 21), (12, 7)),\n",
       " ((7, 5), (12, 7)),\n",
       " ((5, 3), (12, 7)),\n",
       " ((5, 3), (7, 2)),\n",
       " ((12, 10), (7, 2)),\n",
       " ((7, 5), (7, 2)),\n",
       " ((12, 10), (12, 7))]"
      ]
     },
     "execution_count": 185,
     "metadata": {},
     "output_type": "execute_result"
    }
   ],
   "source": [
    "possible_moves"
   ]
  },
  {
   "cell_type": "code",
   "execution_count": 186,
   "id": "778a724e-e04e-4bb0-a30b-257d4d5af7b2",
   "metadata": {},
   "outputs": [
    {
     "name": "stdout",
     "output_type": "stream",
     "text": [
      "                 Position ID: 4HPwATDgc/ABMA\n",
      "                 Match ID   : cAgVAAAAAAAA\n",
      " +13-14-15-16-17-18------19-20-21-22-23-24-+\n",
      " | X           O    |   | O              X |\n",
      " | X           O    |   | O              X |\n",
      " | X           O    |   | O                |\n",
      " | X                |   | O                |\n",
      " | X                |   | O                |\n",
      "v|                  |BAR|                  |\n",
      " | O                |   | X                |\n",
      " | O                |   | X                |\n",
      " | O           X    |   | X                |\n",
      " | O           X    |   | X              O |\n",
      " | O           X    |   | X              O |\n",
      " +12-11-10--9--8--7-------6--5--4--3--2--1-+\n",
      "\n"
     ]
    }
   ],
   "source": [
    "print(b)"
   ]
  },
  {
   "cell_type": "code",
   "execution_count": 188,
   "id": "8802489d-bf1a-4e5b-bf10-008797b3f3e2",
   "metadata": {},
   "outputs": [
    {
     "name": "stdout",
     "output_type": "stream",
     "text": [
      "(2, 5)\n"
     ]
    }
   ],
   "source": [
    "print(b.match.dice)"
   ]
  },
  {
   "cell_type": "code",
   "execution_count": null,
   "id": "b4e1b523-eb2d-4c19-bf73-98e831949f44",
   "metadata": {},
   "outputs": [],
   "source": []
  },
  {
   "cell_type": "code",
   "execution_count": null,
   "id": "4ee537c6-34e0-45b1-9cb1-78ad316912d6",
   "metadata": {},
   "outputs": [],
   "source": []
  },
  {
   "cell_type": "code",
   "execution_count": 88,
   "id": "2a9f09e6-7cf8-435e-a384-4359a901119a",
   "metadata": {},
   "outputs": [
    {
     "name": "stdout",
     "output_type": "stream",
     "text": [
      "###\n",
      "###\n",
      "###\n",
      "###\n",
      "###\n",
      "###\n",
      "###\n",
      "###\n",
      "###\n",
      "###\n",
      "###\n",
      "###\n",
      "###\n",
      "###\n",
      "###\n",
      "###\n",
      "###\n",
      "###\n",
      "###\n",
      "###\n",
      "###\n",
      "###\n",
      "###\n"
     ]
    }
   ],
   "source": [
    "possible_moves = []\n",
    "for play in b.generate_plays():\n",
    "    # print(play.moves)\n",
    "    pair = []\n",
    "    for move in play.moves:\n",
    "        pair.append((move.source,move.destination))\n",
    "    possible_moves.append(tuple(pair))\n",
    "\n",
    "    \n",
    "    # play = play[0]\n",
    "    # first = play[0]\n",
    "    # second = play [1]\n",
    "    # pair_1 = (first.source,first.destination)\n",
    "    # pair_2 = (second.source,second.destination)\n",
    "    # possible_moves.append((pair_1,pair_2))\n",
    "\n",
    "        \n",
    "    \n",
    "    # print(play.position)\n",
    "    \n"
   ]
  },
  {
   "cell_type": "code",
   "execution_count": 89,
   "id": "1e3b6001-ce15-4aff-9694-e714070a49cc",
   "metadata": {},
   "outputs": [
    {
     "name": "stdout",
     "output_type": "stream",
     "text": [
      "[((None, 21), (4, 1), (4, 1), (12, 9)), ((None, 21), (4, 1), (5, 2), (7, 4)), ((None, 21), (12, 9), (9, 6), (12, 9)), ((None, 21), (5, 2), (5, 2), (7, 4)), ((None, 21), (12, 9), (12, 9), (12, 9)), ((None, 21), (5, 2), (7, 4), (7, 4)), ((None, 21), (7, 4), (12, 9), (9, 6)), ((None, 21), (5, 2), (5, 2), (5, 2)), ((None, 21), (4, 1), (4, 1), (5, 2)), ((None, 21), (12, 9), (9, 6), (6, 3)), ((None, 21), (7, 4), (12, 9), (12, 9)), ((None, 21), (4, 1), (12, 9), (12, 9)), ((None, 21), (5, 2), (7, 4), (12, 9)), ((None, 21), (4, 1), (5, 2), (12, 9)), ((None, 21), (7, 4), (7, 4), (12, 9)), ((None, 21), (4, 1), (7, 4), (7, 4)), ((None, 21), (4, 1), (4, 1), (7, 4)), ((None, 21), (4, 1), (5, 2), (5, 2)), ((None, 21), (4, 1), (7, 4), (12, 9)), ((None, 21), (5, 2), (5, 2), (12, 9)), ((None, 21), (5, 2), (12, 9), (9, 6)), ((None, 21), (4, 1), (12, 9), (9, 6)), ((None, 21), (5, 2), (12, 9), (12, 9))]\n"
     ]
    }
   ],
   "source": [
    "print(possible_moves)"
   ]
  },
  {
   "cell_type": "code",
   "execution_count": 78,
   "id": "79bb7ea9-2464-4402-811f-9bd54b275d92",
   "metadata": {},
   "outputs": [
    {
     "ename": "BackgammonError",
     "evalue": "Invalid move: sV3CQQRiZ3AARw:cIgNAAAAAAAA ((None, 22), (12, 9))",
     "output_type": "error",
     "traceback": [
      "\u001b[1;31m---------------------------------------------------------------------------\u001b[0m",
      "\u001b[1;31mBackgammonError\u001b[0m                           Traceback (most recent call last)",
      "Cell \u001b[1;32mIn[78], line 3\u001b[0m\n\u001b[0;32m      1\u001b[0m \u001b[38;5;66;03m# b.skip()\u001b[39;00m\n\u001b[0;32m      2\u001b[0m pos \u001b[38;5;241m=\u001b[39m ((\u001b[38;5;28;01mNone\u001b[39;00m, \u001b[38;5;241m22\u001b[39m), (\u001b[38;5;241m12\u001b[39m, \u001b[38;5;241m9\u001b[39m))\n\u001b[1;32m----> 3\u001b[0m \u001b[43mb\u001b[49m\u001b[38;5;241;43m.\u001b[39;49m\u001b[43mplay\u001b[49m\u001b[43m(\u001b[49m\u001b[43mpos\u001b[49m\u001b[43m)\u001b[49m\n",
      "File \u001b[1;32m~\\.conda\\envs\\AI\\lib\\site-packages\\backgammon\\backgammon.py:223\u001b[0m, in \u001b[0;36mBackgammon.play\u001b[1;34m(self, moves)\u001b[0m\n\u001b[0;32m    221\u001b[0m     position_id: \u001b[38;5;28mstr\u001b[39m \u001b[38;5;241m=\u001b[39m \u001b[38;5;28mself\u001b[39m\u001b[38;5;241m.\u001b[39mposition\u001b[38;5;241m.\u001b[39mencode()\n\u001b[0;32m    222\u001b[0m     match_id: \u001b[38;5;28mstr\u001b[39m \u001b[38;5;241m=\u001b[39m \u001b[38;5;28mself\u001b[39m\u001b[38;5;241m.\u001b[39mmatch\u001b[38;5;241m.\u001b[39mencode()\n\u001b[1;32m--> 223\u001b[0m     \u001b[38;5;28;01mraise\u001b[39;00m BackgammonError(\u001b[38;5;124mf\u001b[39m\u001b[38;5;124m\"\u001b[39m\u001b[38;5;124mInvalid move: \u001b[39m\u001b[38;5;132;01m{\u001b[39;00mposition_id\u001b[38;5;132;01m}\u001b[39;00m\u001b[38;5;124m:\u001b[39m\u001b[38;5;132;01m{\u001b[39;00mmatch_id\u001b[38;5;132;01m}\u001b[39;00m\u001b[38;5;124m \u001b[39m\u001b[38;5;132;01m{\u001b[39;00mmoves\u001b[38;5;132;01m}\u001b[39;00m\u001b[38;5;124m\"\u001b[39m)\n\u001b[0;32m    225\u001b[0m \u001b[38;5;28;01mreturn\u001b[39;00m \u001b[38;5;28mself\u001b[39m\n",
      "\u001b[1;31mBackgammonError\u001b[0m: Invalid move: sV3CQQRiZ3AARw:cIgNAAAAAAAA ((None, 22), (12, 9))"
     ]
    }
   ],
   "source": [
    "# b.skip()\n",
    "pos = ((None, 22), (12, 9))\n",
    "b.play(pos)\n",
    "    \n",
    "    \n"
   ]
  },
  {
   "cell_type": "code",
   "execution_count": 67,
   "id": "694dc783-fb51-41de-b137-f467d8886b97",
   "metadata": {},
   "outputs": [],
   "source": [
    "new_pos= b.position.apply_move(None, 21).apply_move(12, 9)\n"
   ]
  },
  {
   "cell_type": "code",
   "execution_count": 70,
   "id": "0cdfa605-b59e-4bb5-a0fe-58bf4b07a343",
   "metadata": {},
   "outputs": [
    {
     "data": {
      "text/plain": [
       "'sV3CQQRiZ2IADw'"
      ]
     },
     "execution_count": 70,
     "metadata": {},
     "output_type": "execute_result"
    }
   ],
   "source": [
    "new_pos.encode()"
   ]
  },
  {
   "cell_type": "code",
   "execution_count": 192,
   "id": "aa813a03-c10f-4342-b431-846e95b9ddb3",
   "metadata": {},
   "outputs": [],
   "source": []
  },
  {
   "cell_type": "code",
   "execution_count": 70,
   "id": "5823b963-c17c-4cab-97ac-ec9a8ad81710",
   "metadata": {},
   "outputs": [],
   "source": [
    "winner = 0\n",
    "state_players = [0,1,0,1,0,1,0,1,0,1,0,1]\n",
    "filter_array = np.array(state_players)\n",
    "if winner == 0:\n",
    "    final_rewards = [+1 if state_player == 0 else -1 for state_player in state_players]\n",
    "elif winner == 1:\n",
    "    final_rewards = [+1 if state_player == 1 else -1 for state_player in state_players]"
   ]
  },
  {
   "cell_type": "code",
   "execution_count": 71,
   "id": "c676dab5-c76c-4e39-aaf9-9e98d45b54da",
   "metadata": {},
   "outputs": [
    {
     "data": {
      "text/plain": [
       "[1, -1, 1, -1, 1, -1, 1, -1, 1, -1, 1, -1]"
      ]
     },
     "execution_count": 71,
     "metadata": {},
     "output_type": "execute_result"
    }
   ],
   "source": [
    "final_rewards"
   ]
  },
  {
   "cell_type": "code",
   "execution_count": 73,
   "id": "68bdad56-a319-4767-a6fb-581f4175f819",
   "metadata": {},
   "outputs": [
    {
     "data": {
      "text/plain": [
       "array([-1, -1, -1, -1, -1, -1])"
      ]
     },
     "execution_count": 73,
     "metadata": {},
     "output_type": "execute_result"
    }
   ],
   "source": [
    "final_rewards = np.array(final_rewards)\n",
    "final_rewards[filter_array == 1]"
   ]
  },
  {
   "cell_type": "code",
   "execution_count": 68,
   "id": "a21dacad-b15d-4a34-9ac0-62d6a61005de",
   "metadata": {},
   "outputs": [
    {
     "data": {
      "text/plain": [
       "[0, 1, 0, 1, 0, 1, 0, 1, 0, 1, 0, 10]"
      ]
     },
     "execution_count": 68,
     "metadata": {},
     "output_type": "execute_result"
    }
   ],
   "source": [
    "state_players"
   ]
  },
  {
   "cell_type": "code",
   "execution_count": null,
   "id": "e23bdac5-6b66-4d6a-ad46-2a4edd77b2d0",
   "metadata": {},
   "outputs": [],
   "source": []
  }
 ],
 "metadata": {
  "kernelspec": {
   "display_name": "Python 3 (ipykernel)",
   "language": "python",
   "name": "python3"
  },
  "language_info": {
   "codemirror_mode": {
    "name": "ipython",
    "version": 3
   },
   "file_extension": ".py",
   "mimetype": "text/x-python",
   "name": "python",
   "nbconvert_exporter": "python",
   "pygments_lexer": "ipython3",
   "version": "3.9.0"
  }
 },
 "nbformat": 4,
 "nbformat_minor": 5
}
